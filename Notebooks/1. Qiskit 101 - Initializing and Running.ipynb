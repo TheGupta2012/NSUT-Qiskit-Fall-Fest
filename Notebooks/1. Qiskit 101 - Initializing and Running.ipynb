{
 "cells": [
  {
   "cell_type": "markdown",
   "metadata": {
    "id": "BcmFeSF8qJRg"
   },
   "source": [
    "# **Intro to Quantum Circuits**\n",
    "***\n",
    "\n"
   ]
  },
  {
   "cell_type": "markdown",
   "metadata": {
    "id": "OvMRTYf_p-yk"
   },
   "source": [
    "This first lesson is designed to introduce you to Qiskit’s formalism for running quantum circuits, specifically creating quantum systems using QuantumCircuits. This lesson is recommended for first time users of Qiskit."
   ]
  },
  {
   "cell_type": "code",
   "execution_count": 2,
   "metadata": {
    "ExecuteTime": {
     "end_time": "2022-10-07T07:42:46.484730Z",
     "start_time": "2022-10-07T07:42:35.945978Z"
    },
    "colab": {
     "base_uri": "https://localhost:8080/"
    },
    "executionInfo": {
     "elapsed": 20996,
     "status": "ok",
     "timestamp": 1665035670535,
     "user": {
      "displayName": "Harshit Gupta",
      "userId": "10574887440938866581"
     },
     "user_tz": -330
    },
    "id": "prO3jIO-z6I2",
    "outputId": "add9ea26-a230-498b-9ecc-5945c8e75b23"
   },
   "outputs": [
    {
     "name": "stdout",
     "output_type": "stream",
     "text": [
      "/usr/lib/python3/dist-packages/secretstorage/dhcrypto.py:15: CryptographyDeprecationWarning: int_from_bytes is deprecated, use int.from_bytes instead\n",
      "  from cryptography.utils import int_from_bytes\n",
      "/usr/lib/python3/dist-packages/secretstorage/util.py:19: CryptographyDeprecationWarning: int_from_bytes is deprecated, use int.from_bytes instead\n",
      "  from cryptography.utils import int_from_bytes\n",
      "Defaulting to user installation because normal site-packages is not writeable\n",
      "Requirement already satisfied: qiskit in /home/harshit/.local/lib/python3.8/site-packages (0.37.2)\n",
      "Requirement already satisfied: qiskit-aer==0.10.4 in /home/harshit/.local/lib/python3.8/site-packages (from qiskit) (0.10.4)\n",
      "Requirement already satisfied: qiskit-terra==0.21.2 in /home/harshit/.local/lib/python3.8/site-packages (from qiskit) (0.21.2)\n",
      "Requirement already satisfied: qiskit-ibmq-provider==0.19.2 in /home/harshit/.local/lib/python3.8/site-packages (from qiskit) (0.19.2)\n",
      "Requirement already satisfied: scipy>=1.0 in /home/harshit/.local/lib/python3.8/site-packages (from qiskit-aer==0.10.4->qiskit) (1.8.0)\n",
      "Requirement already satisfied: numpy>=1.16.3 in /home/harshit/.local/lib/python3.8/site-packages (from qiskit-aer==0.10.4->qiskit) (1.22.2)\n",
      "Requirement already satisfied: urllib3>=1.21.1 in /home/harshit/.local/lib/python3.8/site-packages (from qiskit-ibmq-provider==0.19.2->qiskit) (1.26.7)\n",
      "Requirement already satisfied: websocket-client>=1.0.1 in /home/harshit/.local/lib/python3.8/site-packages (from qiskit-ibmq-provider==0.19.2->qiskit) (1.3.1)\n",
      "Requirement already satisfied: requests-ntlm>=1.1.0 in /home/harshit/.local/lib/python3.8/site-packages (from qiskit-ibmq-provider==0.19.2->qiskit) (1.1.0)\n",
      "Requirement already satisfied: websockets>=10.0 in /home/harshit/.local/lib/python3.8/site-packages (from qiskit-ibmq-provider==0.19.2->qiskit) (10.3)\n",
      "Requirement already satisfied: python-dateutil>=2.8.0 in /home/harshit/.local/lib/python3.8/site-packages (from qiskit-ibmq-provider==0.19.2->qiskit) (2.8.2)\n",
      "Requirement already satisfied: requests>=2.19 in /home/harshit/.local/lib/python3.8/site-packages (from qiskit-ibmq-provider==0.19.2->qiskit) (2.26.0)\n",
      "Requirement already satisfied: psutil>=5 in /home/harshit/.local/lib/python3.8/site-packages (from qiskit-terra==0.21.2->qiskit) (5.9.0)\n",
      "Requirement already satisfied: sympy>=1.3 in /home/harshit/.local/lib/python3.8/site-packages (from qiskit-terra==0.21.2->qiskit) (1.9)\n",
      "Requirement already satisfied: symengine>=0.9 in /home/harshit/.local/lib/python3.8/site-packages (from qiskit-terra==0.21.2->qiskit) (0.9.0)\n",
      "Requirement already satisfied: tweedledum<2.0,>=1.1 in /home/harshit/.local/lib/python3.8/site-packages (from qiskit-terra==0.21.2->qiskit) (1.1.1)\n",
      "Requirement already satisfied: retworkx>=0.11.0 in /home/harshit/.local/lib/python3.8/site-packages (from qiskit-terra==0.21.2->qiskit) (0.11.0)\n",
      "Requirement already satisfied: ply>=3.10 in /home/harshit/.local/lib/python3.8/site-packages (from qiskit-terra==0.21.2->qiskit) (3.11)\n",
      "Requirement already satisfied: dill>=0.3 in /home/harshit/.local/lib/python3.8/site-packages (from qiskit-terra==0.21.2->qiskit) (0.3.4)\n",
      "Requirement already satisfied: stevedore>=3.0.0 in /home/harshit/.local/lib/python3.8/site-packages (from qiskit-terra==0.21.2->qiskit) (3.5.0)\n",
      "Requirement already satisfied: six>=1.5 in /home/harshit/.local/lib/python3.8/site-packages (from python-dateutil>=2.8.0->qiskit-ibmq-provider==0.19.2->qiskit) (1.16.0)\n",
      "Requirement already satisfied: charset-normalizer~=2.0.0 in /home/harshit/.local/lib/python3.8/site-packages (from requests>=2.19->qiskit-ibmq-provider==0.19.2->qiskit) (2.0.9)\n",
      "Requirement already satisfied: certifi>=2017.4.17 in /home/harshit/.local/lib/python3.8/site-packages (from requests>=2.19->qiskit-ibmq-provider==0.19.2->qiskit) (2021.10.8)\n",
      "Requirement already satisfied: idna<4,>=2.5 in /home/harshit/.local/lib/python3.8/site-packages (from requests>=2.19->qiskit-ibmq-provider==0.19.2->qiskit) (3.3)\n",
      "Requirement already satisfied: ntlm-auth>=1.0.2 in /home/harshit/.local/lib/python3.8/site-packages (from requests-ntlm>=1.1.0->qiskit-ibmq-provider==0.19.2->qiskit) (1.5.0)\n",
      "Requirement already satisfied: cryptography>=1.3 in /home/harshit/.local/lib/python3.8/site-packages (from requests-ntlm>=1.1.0->qiskit-ibmq-provider==0.19.2->qiskit) (36.0.1)\n",
      "Requirement already satisfied: pbr!=2.1.0,>=2.0.0 in /home/harshit/.local/lib/python3.8/site-packages (from stevedore>=3.0.0->qiskit-terra==0.21.2->qiskit) (5.8.1)\n",
      "Requirement already satisfied: mpmath>=0.19 in /home/harshit/.local/lib/python3.8/site-packages (from sympy>=1.3->qiskit-terra==0.21.2->qiskit) (1.2.1)\n",
      "Requirement already satisfied: cffi>=1.12 in /home/harshit/.local/lib/python3.8/site-packages (from cryptography>=1.3->requests-ntlm>=1.1.0->qiskit-ibmq-provider==0.19.2->qiskit) (1.15.0)\n",
      "Requirement already satisfied: pycparser in /home/harshit/.local/lib/python3.8/site-packages (from cffi>=1.12->cryptography>=1.3->requests-ntlm>=1.1.0->qiskit-ibmq-provider==0.19.2->qiskit) (2.21)\n"
     ]
    }
   ],
   "source": [
    "!pip install qiskit"
   ]
  },
  {
   "cell_type": "code",
   "execution_count": 3,
   "metadata": {
    "ExecuteTime": {
     "end_time": "2022-10-07T07:42:51.471227Z",
     "start_time": "2022-10-07T07:42:46.487691Z"
    },
    "executionInfo": {
     "elapsed": 704,
     "status": "ok",
     "timestamp": 1665035671231,
     "user": {
      "displayName": "Harshit Gupta",
      "userId": "10574887440938866581"
     },
     "user_tz": -330
    },
    "id": "gGmZNDLTqlIv"
   },
   "outputs": [],
   "source": [
    "from qiskit import QuantumRegister , ClassicalRegister, QuantumCircuit , Aer , execute\n",
    "import numpy as np\n",
    "import math as m\n",
    "S_simulator = Aer.backends(name='statevector_simulator')[0]\n",
    "M_simulator = Aer.backends(name='qasm_simulator')[0]"
   ]
  },
  {
   "cell_type": "markdown",
   "metadata": {
    "id": "U7QkQcOYtnzw"
   },
   "source": [
    "# **Creating Our First Quantum State**\n",
    "***"
   ]
  },
  {
   "cell_type": "markdown",
   "metadata": {
    "id": "FqNrmXi1-D2f"
   },
   "source": [
    "## **Qiskit**\n",
    "Qiskit has four main\n",
    "components in its quantum computing stack, as listed here:\n",
    "1. Qiskit Terra: This provides all the essential components for\n",
    "building quantum circuits.\n",
    "2. Qiskit Aer: You can develop noise models for simulating realistic noisy simulations that can occur in real quantum computing devices using Aer tools. Aer also provides a C++\n",
    "simulator framework.\n",
    "3. Qiskit Ignis: This is a framework for analyzing and minimizing\n",
    "noise in quantum circuits.\n",
    "4. Qiskit Aqua: This contains cross-domain algorithms and logic to\n",
    "run these algorithms on a quantum real device or simulator."
   ]
  },
  {
   "cell_type": "markdown",
   "metadata": {
    "id": "y2Xf83ugtqdh"
   },
   "source": [
    "Qiskit allows us to create algorithms for a quantum computer. These algorithms tell the quantum\n",
    "computer what kinds of quantum systems to create, and then manipulate them with gates. Compared to classical algorithms, we\n",
    "will find that programming for a quantum computer is quite different, requiring us to face many new limitations posed on us by\n",
    "quantum systems. In turn however, these quantum algorithms allow us to solve problems much faster than any classical approach."
   ]
  },
  {
   "cell_type": "markdown",
   "metadata": {
    "id": "NPgM3aPdtzV7"
   },
   "source": [
    "Let’s start with the simplest quantum system there is:"
   ]
  },
  {
   "cell_type": "markdown",
   "metadata": {
    "id": "lEtYTU3pt1ot"
   },
   "source": [
    "\n",
    "  $|{\\psi}>$ =  $|0>$\n",
    "  "
   ]
  },
  {
   "cell_type": "markdown",
   "metadata": {
    "id": "NVEHqVDdyxok"
   },
   "source": [
    "This is a quantum system of 1 qubit, in the state |0>. Not terribly exciting, but we have to start somewhere! Consider this the\n",
    "”Hello World!” to programing with qubits."
   ]
  },
  {
   "cell_type": "markdown",
   "metadata": {
    "id": "BACJyAc4y3-F"
   },
   "source": [
    "Let’s see the code that generates this system, and then dissect its components:"
   ]
  },
  {
   "cell_type": "code",
   "execution_count": 4,
   "metadata": {
    "ExecuteTime": {
     "end_time": "2022-10-07T07:42:52.115916Z",
     "start_time": "2022-10-07T07:42:51.473614Z"
    },
    "id": "UPjzG3P-qzAL",
    "outputId": "96dc7b63-91a8-4b57-8ecb-f8004190370a"
   },
   "outputs": [
    {
     "name": "stdout",
     "output_type": "stream",
     "text": [
      "Statevector([1.+0.j, 0.+0.j],\n",
      "            dims=(2,))\n"
     ]
    }
   ],
   "source": [
    "from qiskit import QuantumRegister , ClassicalRegister , QuantumCircuit , Aer , execute\n",
    "\n",
    "qreg_q = QuantumRegister(1,'q')\n",
    "creg_c = ClassicalRegister(1,'c')\n",
    "\n",
    "hello_qubit = QuantumCircuit(qreg_q , creg_c)\n",
    "\n",
    "hello_qubit.id(qreg_q[0])\n",
    "\n",
    "job =   execute(hello_qubit, S_simulator)\n",
    "result =  job.result()\n",
    "result.get_statevector()\n"
   ]
  },
  {
   "cell_type": "markdown",
   "metadata": {
    "id": "15DoHF420BHR"
   },
   "source": [
    "Congrats, you’ve just created your first quantum system using Qiskit!"
   ]
  },
  {
   "cell_type": "markdown",
   "metadata": {
    "id": "kDLXy-k70gdZ"
   },
   "source": [
    "Okay, it’s not a very exciting result, but there are already a lot of things going on in this code. Starting with our imports:"
   ]
  },
  {
   "cell_type": "markdown",
   "metadata": {
    "id": "TSShArZY0kHK"
   },
   "source": [
    "***\n",
    "from qiskit import **QuantumRegister, QuantumCircuit, Aer, execute**\n",
    "***"
   ]
  },
  {
   "cell_type": "markdown",
   "metadata": {
    "id": "OoJooIke09qT"
   },
   "source": [
    "These imports are what allow us to create and see the quantum system we are working with."
   ]
  },
  {
   "cell_type": "markdown",
   "metadata": {
    "id": "s75H_gGf1YJA"
   },
   "source": [
    "**QuantumRegister** – this is a class that holds our qubits. When we go to perform gate operations on our system, we call on the\n",
    "QuantumRegister’s index locations, corresponding to the qubits we are interested in.  \n",
    "**QuantumCircuit** – this is a class that can be thought of as our ”instructions” for the quantum system. As we want to design\n",
    "larger and more complex algorithms, we will store operations into QuantumCircuits, which we can then call upon by\n",
    "simulators to run them later.    \n",
    "**Aer** – this is a class that handles using classical simulator backends. Since we will be doing all of our tutorials via classical\n",
    "simulations, we will be using this class regularly. The actual name for this class is AerProvider, but qiskit just lets us import\n",
    "and use it as Aer.   \n",
    "**execute** – this is a function that we must import in order to run our quantum algorithms. By itself, a QuantumCircuit is like a\n",
    "list that hold all our our quantum operations. Therefore, execute is what will allow us to run these instructions.   \n",
    "**S_simulator** - this is a variable that we have created for storing our classical simulator. We use the\n",
    "Aer class and call upon a specific backend: **’statevector_simulator’**. This backend is what will allow us to view the wavefunction\n",
    "of our quantum system, and is one of two backends that we will use frequently throughout these tutorials. This simulator returns the quantum state, which is a complex vector of dimensions $2^n$ , where n is the number of qubits \n"
   ]
  },
  {
   "cell_type": "markdown",
   "metadata": {
    "id": "AjdVdOSX4LV-"
   },
   "source": [
    "The goal of this lesson is to become familiar with some of the basics of building and running QuantumCircuits, so don’t worry\n",
    "if all of these new terms don’t make sense just yet."
   ]
  },
  {
   "cell_type": "markdown",
   "metadata": {
    "id": "ClkQEiEL4QMV"
   },
   "source": [
    "Now, let’s start with our first three lines of code:"
   ]
  },
  {
   "cell_type": "markdown",
   "metadata": {
    "id": "hmQuqfT14Mkm"
   },
   "source": [
    "***\n",
    "qreg_q = QuantumRegister(1,'q')   \n",
    "creg_c = ClassicalRegister(1,'c')  \n",
    "hello_qubit = QuantumCircuit(qreg_q , creg_c)  \n",
    "hello_qubit.id(qc[0])\n",
    "***"
   ]
  },
  {
   "cell_type": "markdown",
   "metadata": {
    "id": "eUxwl64a4tKz"
   },
   "source": [
    "- The first line of code is creating a QuantumRegister of 1 qubit, and calling it ’qreg_q’. \n",
    "- In the next line we create a ClassicalRegister of 1 bit and call it 'creg_c'. \n",
    "- We then create a QuantumCircuit called ’hello_qubit’, using the quantum register and classical register we just created. \n",
    "- And lastly, we apply the Identity operator to our single qubit,using the function **id**, and specifying that we want this Identity operation to be applied to qreg_q[0]  \n",
    "\n",
    "The indexing on the QuantumRegister works the same way as Python ordering, where the first entry is always 0."
   ]
  },
  {
   "cell_type": "markdown",
   "metadata": {
    "id": "_Vmvadj244Jl"
   },
   "source": [
    "These three lines of code are a good template for the basic flow of creating a quantum algorithm in Qiskit: \n",
    "1. Define how many\n",
    "qubits you want \n",
    "2. Store them in a QuantumRegister\n",
    "3. Create a QuantumCircuit using all (or just some) of the qubits in your\n",
    "quantum register \n",
    "4. Apply gate operations, measurements, etc."
   ]
  },
  {
   "cell_type": "markdown",
   "metadata": {
    "id": "PzWW3ncW5AtJ"
   },
   "source": [
    "By default, when we create a QuantumCircuit of N qubits, all of the qubits start off in the state $|0>$. But, they aren’t technically\n",
    "in our system until we apply at least one gate operation to them. Thus, in the example above, in order to create our state\n",
    "$|{\\psi>}$ = $|0>$, we must apply the Identity gate."
   ]
  },
  {
   "cell_type": "markdown",
   "metadata": {
    "id": "mDoAS4OY6JTZ"
   },
   "source": [
    "Now onto the remaining lines of code:"
   ]
  },
  {
   "cell_type": "markdown",
   "metadata": {
    "id": "oL-H2Bl86NXb"
   },
   "source": [
    "***\n",
    "job = execute(hello_qubit, S_simulator)  \n",
    "result = job.result()  \n",
    "result.get statevector()\n",
    "***"
   ]
  },
  {
   "cell_type": "markdown",
   "metadata": {
    "id": "0y-kuUS_6T1-"
   },
   "source": [
    "In Qiskit, we create QuantumCircuits, but by themselves they do not represent any physical quantum system. They are just a\n",
    "set of instructions, so we must tell Qiskit what we want to do with them, or more specifically, on what we want to run them.\n",
    "Our choices for how we can run our quantum circuits come in the form of ’backends’. In our example, we want to run our\n",
    "QuantumCircuit on a classical simulator which is Ideal (without any noise) quantum circuit simulator so that we can see its wavefunction."
   ]
  },
  {
   "cell_type": "markdown",
   "metadata": {
    "id": "zgAKKiN-6nPd"
   },
   "source": [
    "Let’s now focus solely on the backend that we will be working with: **statevector simulator**. The following cell of code\n",
    "showcases several features of this backend object:"
   ]
  },
  {
   "cell_type": "code",
   "execution_count": 5,
   "metadata": {
    "ExecuteTime": {
     "end_time": "2022-10-07T07:42:52.122042Z",
     "start_time": "2022-10-07T07:42:52.117855Z"
    },
    "id": "qgBkMLSu7r8F",
    "outputId": "3f5ddb08-dcd5-4a1f-c354-f7b5c7df97f1"
   },
   "outputs": [
    {
     "name": "stdout",
     "output_type": "stream",
     "text": [
      "simulator:  statevector_simulator \n",
      "\n",
      "simulator type:  <class 'qiskit.providers.aer.backends.statevector_simulator.StatevectorSimulator'> \n",
      "\n",
      "Aer.backend(name = statevector_simulator):  [StatevectorSimulator('statevector_simulator')]\n"
     ]
    }
   ],
   "source": [
    "S_simulator = Aer.backends(name='statevector_simulator')[0]\n",
    "\n",
    "print('simulator: ' , S_simulator, '\\n')\n",
    "print('simulator type: ' , type(S_simulator) , '\\n')\n",
    "print('Aer.backend(name = statevector_simulator): ' , Aer.backends(name = 'statevector_simulator'))"
   ]
  },
  {
   "cell_type": "markdown",
   "metadata": {
    "id": "zkckxluU7nJH"
   },
   "source": [
    "To summarize what is going on here, the single line of code at the top is assigning the class **StatevectorSimulator** to our variable\n",
    "’S_simulator’. We do this with the function **backends**, which is part of Aer. This StatevectorSimulator class is what is going\n",
    "to allow us to see our wavefunction at the end of our code, simulating the quantum state classically via statevector_simulator.\n",
    "We get this class via the line:"
   ]
  },
  {
   "cell_type": "markdown",
   "metadata": {
    "id": "Ac6kHJji-GLA"
   },
   "source": [
    "***\n",
    "Aer.backends(name='statevector_simulator')[0]\n",
    "***"
   ]
  },
  {
   "cell_type": "markdown",
   "metadata": {
    "id": "HWuJIAfp-N-9"
   },
   "source": [
    "which returns a class object, as shown above. In essence, all we really need to know is that this first line of code is correctly\n",
    "grabbing the backend we want, and storing it in a variable which we can call upon at any time."
   ]
  },
  {
   "cell_type": "markdown",
   "metadata": {
    "id": "Iam3poce-TZ0"
   },
   "source": [
    "Our last three lines of code then do the rest of the work, converting our QuantumCircuit into a printable wavefunction for us\n",
    "to view. Understanding the full details of this process isn’t really necessary for our educational purposes here, but if you are\n",
    "interested, we encourage you to look at the source code. Essentially, the instructions of our QuantumCircuit go through two\n",
    "more classes before finally coming out as a printable wavefunction:"
   ]
  },
  {
   "cell_type": "markdown",
   "metadata": {
    "id": "QMYHKcW0ACu9"
   },
   "source": [
    "**execute( QuantumCircuit, backend ) → job → result → display the results**"
   ]
  },
  {
   "cell_type": "markdown",
   "metadata": {
    "id": "-xHZWWnxAVGt"
   },
   "source": [
    "where the job and results step in our code are the classes:"
   ]
  },
  {
   "cell_type": "code",
   "execution_count": 6,
   "metadata": {
    "ExecuteTime": {
     "end_time": "2022-10-07T07:42:52.251478Z",
     "start_time": "2022-10-07T07:42:52.123500Z"
    },
    "id": "dd_jjiqYAcdu",
    "outputId": "7240d3f3-d896-4e41-8d53-dff8de3e87e3"
   },
   "outputs": [
    {
     "name": "stdout",
     "output_type": "stream",
     "text": [
      " job = AerJob class:  <class 'qiskit.providers.aer.jobs.aerjob.AerJob'>\n",
      "result = Result class:  <class 'qiskit.result.result.Result'>\n"
     ]
    }
   ],
   "source": [
    "S_simulator = Aer.backends(name='statevector_simulator')[0]\n",
    "\n",
    "job =   execute(hello_qubit, S_simulator)\n",
    "print(' job = AerJob class: ' , type(job))\n",
    "\n",
    "result =  job.result()\n",
    "print('result = Result class: ' , type(result))"
   ]
  },
  {
   "cell_type": "markdown",
   "metadata": {
    "id": "O2ZqitrMA9hX"
   },
   "source": [
    "And **get_statevector** is a function defined in the **Result** class, which prints our wavefunction as an array:"
   ]
  },
  {
   "cell_type": "code",
   "execution_count": 7,
   "metadata": {
    "ExecuteTime": {
     "end_time": "2022-10-07T07:42:52.360303Z",
     "start_time": "2022-10-07T07:42:52.256822Z"
    },
    "id": "bi17t3ImBGS3",
    "outputId": "658fa3c0-7298-435b-ae19-d83165fa19b7"
   },
   "outputs": [
    {
     "name": "stdout",
     "output_type": "stream",
     "text": [
      "Statevector([1.+0.j, 0.+0.j],\n",
      "            dims=(2,))\n"
     ]
    }
   ],
   "source": [
    "result.get_statevector()"
   ]
  },
  {
   "cell_type": "markdown",
   "metadata": {
    "id": "eGDckKXEBKwp"
   },
   "source": [
    "If everything just now didn’t sink in, don’t worry. We’ve just gotten through all the technically stuff first, for those who might\n",
    "be so inclined as to rummage through Qiskit’s code for themselves. If you’re not so interested in how Qiskit works, and want to\n",
    "learn how to get Qiskit to work, don’t worry, there’s plenty of that left in this tutorial!"
   ]
  },
  {
   "cell_type": "markdown",
   "metadata": {
    "id": "UkxTcQqLBUdk"
   },
   "source": [
    "## **Let’s Bump Up the Qubits**\n",
    "***"
   ]
  },
  {
   "cell_type": "markdown",
   "metadata": {
    "id": "4lZXQG2ZBm0m"
   },
   "source": [
    "Returning now to creating quantum systems, so far we’ve seen how to create a 1-qubit system (pretty exciting !!!). Since\n",
    "we just spent quite a bit of time looking at all of the components in detail, let’s see it once again in its entirety:"
   ]
  },
  {
   "cell_type": "code",
   "execution_count": 8,
   "metadata": {
    "ExecuteTime": {
     "end_time": "2022-10-07T07:42:52.487496Z",
     "start_time": "2022-10-07T07:42:52.367366Z"
    },
    "id": "lerSXWT3CAOY",
    "outputId": "a6b9d1b0-f187-4d14-98c4-b5e3a6c3f624"
   },
   "outputs": [
    {
     "name": "stdout",
     "output_type": "stream",
     "text": [
      "Statevector([1.+0.j, 0.+0.j],\n",
      "            dims=(2,))\n"
     ]
    }
   ],
   "source": [
    "from qiskit import QuantumRegister , ClassicalRegister , QuantumCircuit , Aer , execute\n",
    "\n",
    "qreg_q = QuantumRegister(1,'q')\n",
    "creg_c = ClassicalRegister(1,'c')\n",
    "\n",
    "hello_qubit = QuantumCircuit(qreg_q , creg_c)\n",
    "\n",
    "hello_qubit.id(qreg_q[0])\n",
    "\n",
    "job =   execute(hello_qubit, S_simulator)\n",
    "result =  job.result()\n",
    "result.get_statevector()"
   ]
  },
  {
   "cell_type": "markdown",
   "metadata": {
    "id": "fuCT3tkSCBFw"
   },
   "source": [
    "In this first example, we created a system of a single qubit in the state $|0>$. This was done by simply creating a QuantumRegister\n",
    "object of 1 qubit, and using it to create a QuantumCircuit using the Identity operator."
   ]
  },
  {
   "cell_type": "code",
   "execution_count": 9,
   "metadata": {
    "ExecuteTime": {
     "end_time": "2022-10-07T07:42:54.614530Z",
     "start_time": "2022-10-07T07:42:52.496345Z"
    },
    "id": "OeEKLQ-vUUhg",
    "outputId": "564be423-92e6-4273-fa08-0f57dfc00ff5"
   },
   "outputs": [
    {
     "data": {
      "image/png": "[encoded data removed]",
      "text/plain": [
       "<Figure size 133.526x144.48 with 1 Axes>"
      ]
     },
     "execution_count": 9,
     "metadata": {},
     "output_type": "execute_result"
    }
   ],
   "source": [
    "hello_qubit.draw('mpl')"
   ]
  },
  {
   "cell_type": "markdown",
   "metadata": {
    "id": "TDVZ2TbiCHWq"
   },
   "source": [
    "Let’s create another simple state, $|ψ>$ = $|000>$ , which contains three qubits all in the $|0>$ state:"
   ]
  },
  {
   "cell_type": "code",
   "execution_count": 10,
   "metadata": {
    "ExecuteTime": {
     "end_time": "2022-10-07T07:42:54.630403Z",
     "start_time": "2022-10-07T07:42:54.616208Z"
    },
    "id": "xcgH6AaACSo3",
    "outputId": "1642c468-83bc-48fa-b330-feea9f88f63f"
   },
   "outputs": [
    {
     "name": "stdout",
     "output_type": "stream",
     "text": [
      "Statevector([1.+0.j, 0.+0.j, 0.+0.j, 0.+0.j, 0.+0.j, 0.+0.j, 0.+0.j,\n",
      "             0.+0.j],\n",
      "            dims=(2, 2, 2))\n"
     ]
    }
   ],
   "source": [
    "qreg_q = QuantumRegister(3,'q')\n",
    "creg_c = ClassicalRegister(3,'c')\n",
    "\n",
    "three_qubits = QuantumCircuit(qreg_q , creg_c)\n",
    "\n",
    "three_qubits.id(qreg_q[0])\n",
    "three_qubits.id(qreg_q[1])\n",
    "three_qubits.id(qreg_q[2])\n",
    "\n",
    "job = execute(three_qubits , S_simulator)\n",
    "\n",
    "result = job.result()\n",
    "\n",
    "result.get_statevector()s"
   ]
  },
  {
   "cell_type": "code",
   "execution_count": 11,
   "metadata": {
    "ExecuteTime": {
     "end_time": "2022-10-07T07:42:54.864402Z",
     "start_time": "2022-10-07T07:42:54.632198Z"
    },
    "id": "fhusyYwCUUhh",
    "outputId": "83bf52e9-d467-4895-c64f-87309eefeab2"
   },
   "outputs": [
    {
     "data": {
      "image/png": "[encoded data removed]",
      "text/plain": [
       "<Figure size 146.797x264.88 with 1 Axes>"
      ]
     },
     "execution_count": 11,
     "metadata": {},
     "output_type": "execute_result"
    }
   ],
   "source": [
    "three_qubits.draw('mpl')"
   ]
  },
  {
   "cell_type": "markdown",
   "metadata": {
    "id": "2F79w40ZUUhh"
   },
   "source": [
    "$|000>$"
   ]
  },
  {
   "cell_type": "markdown",
   "metadata": {
    "id": "lTXgrMf2DTbk"
   },
   "source": [
    "Now, in this example we create a QuantumCircuit of three qubits. Then, since we want each qubit to be in the $|0>$\n",
    "state, we apply the Identity gate to each one. Using this QuantumCircuit, we create a **job** via execute, create a **result** from\n",
    "that job, and then display the results via our get_statevector function. The result is our wavefunction, printed as a length-8 array."
   ]
  },
  {
   "cell_type": "markdown",
   "metadata": {
    "id": "bX9RMn_FrRjy"
   },
   "source": [
    "Note: statevector_simulator returns the quantum state, which is a complex vector of dimensions $2^n$ , where n is the number of qubits "
   ]
  },
  {
   "cell_type": "markdown",
   "metadata": {
    "id": "TcV8IVavENYX"
   },
   "source": [
    "Although there are no labels telling us which states are which in our wavefunction array, we can deduce that the first entry must\n",
    "be the state $|000>$, since it has an amplitude of 1. However, it’s not immediately clear as to which entries represent the remaining\n",
    "states. For clarity, the order in which the states are represented above are as follows:"
   ]
  },
  {
   "cell_type": "markdown",
   "metadata": {
    "id": "8ayU-woEFbXS"
   },
   "source": [
    "[ $|000>$ , $|001>$ , $|010>$ , $|011>$ , $|100>$ , $|101>$ , $|110>$ , $|111>$ ]"
   ]
  },
  {
   "cell_type": "markdown",
   "metadata": {
    "id": "NCH5p4KBF227"
   },
   "source": [
    "where the order of this qubits is from right to left. Thus, the state $|001>$, where qubit 0 is in the $|1>$ state, can be created as follows:"
   ]
  },
  {
   "cell_type": "code",
   "execution_count": 12,
   "metadata": {
    "ExecuteTime": {
     "end_time": "2022-10-07T07:42:57.506066Z",
     "start_time": "2022-10-07T07:42:57.474442Z"
    },
    "id": "1T9ndCXDEua-",
    "outputId": "4f321c6b-883c-4941-dace-eb2ea9a3de90"
   },
   "outputs": [
    {
     "name": "stdout",
     "output_type": "stream",
     "text": [
      "Statevector([0.+0.j, 1.+0.j, 0.+0.j, 0.+0.j, 0.+0.j, 0.+0.j, 0.+0.j,\n",
      "             0.+0.j],\n",
      "            dims=(2, 2, 2))\n"
     ]
    }
   ],
   "source": [
    "qreg_q = QuantumRegister(3,'q')\n",
    "creg_c = ClassicalRegister(3,'c')\n",
    "\n",
    "three_qubits = QuantumCircuit(qreg_q , creg_c)\n",
    "\n",
    "three_qubits.x(qreg_q[0])\n",
    "\n",
    "three_qubits.id(qreg_q[1])\n",
    "three_qubits.id(qreg_q[2])\n",
    "\n",
    "job = execute(three_qubits , S_simulator)\n",
    "\n",
    "result = job.result()\n",
    "\n",
    "result.get_statevector()"
   ]
  },
  {
   "cell_type": "markdown",
   "metadata": {
    "id": "JZYoNYJtUUhj"
   },
   "source": [
    "### $|001>$ state"
   ]
  },
  {
   "cell_type": "markdown",
   "metadata": {
    "id": "yMBmamLbGm-L"
   },
   "source": [
    "Note, the X gate used here flips a qubit’s state between 0 and 1 (which we will cover later). The array above\n",
    "confirms that the state $|001>$ is indeed located at the index location 1."
   ]
  },
  {
   "cell_type": "code",
   "execution_count": 13,
   "metadata": {
    "ExecuteTime": {
     "end_time": "2022-10-07T07:42:59.772379Z",
     "start_time": "2022-10-07T07:42:59.669751Z"
    },
    "id": "ObZmTckzUUhj",
    "outputId": "6f5260ba-5284-4ea1-81cd-fc7f454c8a7b"
   },
   "outputs": [
    {
     "data": {
      "image/png": "[encoded data removed]",
      "text/plain": [
       "<Figure size 146.797x264.88 with 1 Axes>"
      ]
     },
     "execution_count": 13,
     "metadata": {},
     "output_type": "execute_result"
    }
   ],
   "source": [
    "three_qubits.draw('mpl')"
   ]
  },
  {
   "cell_type": "code",
   "execution_count": 22,
   "metadata": {
    "ExecuteTime": {
     "end_time": "2022-10-07T07:06:19.067492Z",
     "start_time": "2022-10-07T07:06:19.059683Z"
    },
    "id": "NNkt1EFtUUhj",
    "outputId": "9cfd3c7f-2997-40a1-9ec6-1f16a66c3def"
   },
   "outputs": [
    {
     "name": "stdout",
     "output_type": "stream",
     "text": [
      "Statevector([1.+0.j, 0.+0.j],\n",
      "            dims=(2,))\n"
     ]
    }
   ],
   "source": [
    "result.get_statevector()"
   ]
  },
  {
   "cell_type": "markdown",
   "metadata": {
    "id": "hBawy18aUUhk"
   },
   "source": [
    "### $|010>$ state"
   ]
  },
  {
   "cell_type": "code",
   "execution_count": 23,
   "metadata": {
    "ExecuteTime": {
     "end_time": "2022-10-07T07:06:51.833612Z",
     "start_time": "2022-10-07T07:06:51.812445Z"
    },
    "id": "nqis7RXqUUhj",
    "outputId": "8cd88c3e-a0d3-441c-8273-fce6f83fcd29"
   },
   "outputs": [
    {
     "name": "stdout",
     "output_type": "stream",
     "text": [
      "Statevector([0.+0.j, 0.+0.j, 1.+0.j, 0.+0.j, 0.+0.j, 0.+0.j, 0.+0.j,\n",
      "             0.+0.j],\n",
      "            dims=(2, 2, 2))\n"
     ]
    }
   ],
   "source": [
    "qreg_q = QuantumRegister(3,'q')\n",
    "creg_c = ClassicalRegister(3,'c')\n",
    "\n",
    "three_qubits = QuantumCircuit(qreg_q , creg_c)\n",
    "\n",
    "three_qubits.id(qreg_q[0])\n",
    "\n",
    "three_qubits.x(qreg_q[1])\n",
    "three_qubits.id(qreg_q[2])\n",
    "\n",
    "job = execute(three_qubits , S_simulator)\n",
    "\n",
    "result = job.result()\n",
    "\n",
    "result.get_statevector()"
   ]
  },
  {
   "cell_type": "code",
   "execution_count": 24,
   "metadata": {
    "ExecuteTime": {
     "end_time": "2022-10-07T07:06:59.855784Z",
     "start_time": "2022-10-07T07:06:59.662436Z"
    },
    "id": "7IEyJWUFUUhk",
    "outputId": "0730fc04-005b-4a73-ef2d-84d051072845"
   },
   "outputs": [
    {
     "data": {
      "image/png": "[encoded data removed]",
      "text/plain": [
       "<Figure size 146.797x264.88 with 1 Axes>"
      ]
     },
     "execution_count": 24,
     "metadata": {},
     "output_type": "execute_result"
    }
   ],
   "source": [
    "three_qubits.draw('mpl')"
   ]
  },
  {
   "cell_type": "markdown",
   "metadata": {},
   "source": [
    "### Practice\n",
    "- Try imlpementing all the basis states of a 4 qubit system."
   ]
  },
  {
   "cell_type": "code",
   "execution_count": null,
   "metadata": {},
   "outputs": [],
   "source": []
  }
 ],
 "metadata": {
  "colab": {
   "collapsed_sections": [],
   "provenance": []
  },
  "kernelspec": {
   "display_name": "Python 3",
   "language": "python",
   "name": "python3"
  },
  "language_info": {
   "codemirror_mode": {
    "name": "ipython",
    "version": 3
   },
   "file_extension": ".py",
   "mimetype": "text/x-python",
   "name": "python",
   "nbconvert_exporter": "python",
   "pygments_lexer": "ipython3",
   "version": "3.8.10"
  }
 },
 "nbformat": 4,
 "nbformat_minor": 1
}
