{
 "cells": [
  {
   "cell_type": "markdown",
   "id": "ffdd2add",
   "metadata": {
    "slideshow": {
     "slide_type": "slide"
    }
   },
   "source": [
    "# The Deutsch Jozsa Algorithm\n",
    "- Identify whether a given function is constant or balanced!"
   ]
  },
  {
   "cell_type": "code",
   "execution_count": 202,
   "id": "7b5277f9",
   "metadata": {
    "ExecuteTime": {
     "end_time": "2022-10-10T17:25:02.064228Z",
     "start_time": "2022-10-10T17:25:02.052881Z"
    },
    "slideshow": {
     "slide_type": "fragment"
    }
   },
   "outputs": [],
   "source": [
    "#imports\n",
    "from IPython.display import Latex\n",
    "import numpy as np\n",
    "from qiskit import QuantumCircuit, QuantumRegister, ClassicalRegister, Aer, transpile, execute\n",
    "from qiskit.circuit.library import *\n",
    "from qiskit.circuit.random import random_circuit\n",
    "from qiskit.visualization import plot_histogram, array_to_latex\n",
    "\n",
    "backend = Aer.get_backend('qasm_simulator')"
   ]
  },
  {
   "cell_type": "markdown",
   "id": "4fdb78fc",
   "metadata": {
    "slideshow": {
     "slide_type": "slide"
    }
   },
   "source": [
    "# Workshop contents\n",
    "- Solving problems with Quantum Computers\n",
    "- Deutsch-Jozsa Algorithm\n",
    "- Run on real hardware"
   ]
  },
  {
   "cell_type": "markdown",
   "id": "7bc765cd",
   "metadata": {
    "slideshow": {
     "slide_type": "slide"
    }
   },
   "source": [
    "\n",
    "![](full-diagram.png \"Solving Problems on Quantum Computers\")"
   ]
  },
  {
   "cell_type": "markdown",
   "id": "6026e395",
   "metadata": {},
   "source": [
    "## Recap - Quantum Circuit Model\n",
    "\n",
    "<img src='circuit-example.png' width=70%>"
   ]
  },
  {
   "cell_type": "markdown",
   "id": "abe51799",
   "metadata": {},
   "source": [
    "## The Quantum Algorithm - Deutsch-Jozsa\n",
    "\n",
    "- Only need to run f(x) once to know if constant or balanced. O(1)\n",
    "- Published in 1992, first example of a quantum algorithm that performs better than the best classical algorithm.\n",
    "\n",
    "\n",
    "\n"
   ]
  },
  {
   "cell_type": "markdown",
   "id": "f2e52192",
   "metadata": {},
   "source": [
    "![](diagram-3.png)"
   ]
  },
  {
   "attachments": {},
   "cell_type": "markdown",
   "id": "5e4d143c",
   "metadata": {},
   "source": [
    "## Step 1 - Prepare the initial circuit\n",
    "<img src='step-0.png' width=60%>\n",
    "\n",
    "\n",
    "<img src='step-1.png' width=60%>\n"
   ]
  },
  {
   "cell_type": "code",
   "execution_count": 25,
   "id": "b4363b84",
   "metadata": {
    "ExecuteTime": {
     "end_time": "2022-10-10T15:38:45.228391Z",
     "start_time": "2022-10-10T15:38:45.222288Z"
    }
   },
   "outputs": [],
   "source": [
    "N = 3"
   ]
  },
  {
   "cell_type": "code",
   "execution_count": 47,
   "id": "8e78b7a3",
   "metadata": {
    "ExecuteTime": {
     "end_time": "2022-10-10T15:42:56.267288Z",
     "start_time": "2022-10-10T15:42:56.259932Z"
    }
   },
   "outputs": [],
   "source": [
    "dj_circuit = QuantumCircuit(N + 1)"
   ]
  },
  {
   "cell_type": "code",
   "execution_count": 48,
   "id": "af8c45aa",
   "metadata": {
    "ExecuteTime": {
     "end_time": "2022-10-10T15:42:56.520289Z",
     "start_time": "2022-10-10T15:42:56.409687Z"
    }
   },
   "outputs": [],
   "source": [
    "# just add an X gate on the circuit \n",
    "def build_init_state(n, circuit):\n",
    "    # step 1\n",
    "    circuit.x(n)\n",
    "    circuit.barrier()\n",
    "    \n",
    "    # step 2\n",
    "    circuit.h(n)\n",
    "    circuit.h(range(n))"
   ]
  },
  {
   "cell_type": "code",
   "execution_count": 49,
   "id": "c2fda725",
   "metadata": {
    "ExecuteTime": {
     "end_time": "2022-10-10T15:42:56.799751Z",
     "start_time": "2022-10-10T15:42:56.791973Z"
    }
   },
   "outputs": [],
   "source": [
    "build_init_state(N, dj_circuit)"
   ]
  },
  {
   "cell_type": "code",
   "execution_count": 68,
   "id": "6db3544b",
   "metadata": {
    "ExecuteTime": {
     "end_time": "2022-10-10T16:22:20.150461Z",
     "start_time": "2022-10-10T16:22:20.029236Z"
    }
   },
   "outputs": [
    {
     "data": {
      "image/png": "[encoded data removed]",
      "text/plain": [
       "<Figure size 400.796x397.32 with 1 Axes>"
      ]
     },
     "execution_count": 68,
     "metadata": {},
     "output_type": "execute_result"
    }
   ],
   "source": [
    "dj_circuit.draw('mpl', scale = 1.5)"
   ]
  },
  {
   "attachments": {},
   "cell_type": "markdown",
   "id": "9a4cf855",
   "metadata": {},
   "source": [
    "## Step 2 - Create a Deutsch-Jozsa Circuit Oracle\n",
    "- As we studied in our lecture, we have the following requirement - \n",
    "\n",
    "<img src='step-2.png' width=60%>"
   ]
  },
  {
   "cell_type": "markdown",
   "id": "76d14128",
   "metadata": {},
   "source": [
    "### Constant Oracles "
   ]
  },
  {
   "cell_type": "markdown",
   "id": "7f696278",
   "metadata": {},
   "source": [
    "- $\\mathbf{f}(x) = 0$ then we have the state of the $|-\\rangle$ qubit as **unchanged**, so we just use the $\\mathbf{I}$ operator over it \n",
    "- In the other case, when $\\mathbf{f}(x) = 1$ then we would have a *flip* over the phase of the extra qubit for each input $x$. This would mean we would apply just an $X$ gate to the $|-\\rangle$ qubit"
   ]
  },
  {
   "cell_type": "code",
   "execution_count": 65,
   "id": "e554a040",
   "metadata": {
    "ExecuteTime": {
     "end_time": "2022-10-10T15:49:55.308799Z",
     "start_time": "2022-10-10T15:49:55.304600Z"
    }
   },
   "outputs": [],
   "source": [
    "def get_constant_oracle(n):\n",
    "    circuit = QuantumCircuit(n+1)\n",
    "    circ_type = np.random.randint(0,2)\n",
    "    print(f\"Input bit size : {n}\")\n",
    "    print(\"Constant 0!\") if circ_type == 0 else print(\"Constant 1!\")\n",
    "    if circ_type == 1:\n",
    "        circuit.x(n)\n",
    "    return circuit "
   ]
  },
  {
   "cell_type": "code",
   "execution_count": 69,
   "id": "48d58568",
   "metadata": {
    "ExecuteTime": {
     "end_time": "2022-10-10T16:22:26.583655Z",
     "start_time": "2022-10-10T16:22:26.480510Z"
    }
   },
   "outputs": [
    {
     "name": "stdout",
     "output_type": "stream",
     "text": [
      "Input bit size : 3\n",
      "Constant 1!\n"
     ]
    },
    {
     "data": {
      "image/png": "[encoded data removed]",
      "text/plain": [
       "<Figure size 220.196x397.32 with 1 Axes>"
      ]
     },
     "execution_count": 69,
     "metadata": {},
     "output_type": "execute_result"
    }
   ],
   "source": [
    "oracle = get_constant_oracle(N)\n",
    "oracle.draw('mpl', scale = 1.5)"
   ]
  },
  {
   "cell_type": "markdown",
   "id": "33b9e7a2",
   "metadata": {},
   "source": [
    "### Balanced Oracles"
   ]
  },
  {
   "attachments": {
    "image.png": {
     "image/png": "[encoded data removed]"
    }
   },
   "cell_type": "markdown",
   "id": "143b342c",
   "metadata": {},
   "source": [
    "- For a balanced function, there are many different circuits we can create. One of the ways we can guarantee our circuit is balanced is by performing a CNOT for each qubit in register 1, with the qubit in register 2 as the target.\n",
    "\n",
    "Example : \n",
    "\n",
    "<img src='3-cnot.svg' width=40%>\n",
    "\n",
    "Here, the top 3 qubits form the input register, and the bottom qubit is the output register.\n",
    "You can see from the table below that there are exactly **half** input states which output **0** and the other half output **1** \n",
    "\n",
    "![image.png](attachment:image.png)"
   ]
  },
  {
   "cell_type": "markdown",
   "id": "2b3af5c3",
   "metadata": {
    "heading_collapsed": true
   },
   "source": [
    "#### Why is this true? \n",
    "\n",
    "- This is because of the following fact - \n",
    "    $$^nC_0 + ^nC_2 + ^nC_4 + ... = ^nC_1 + ^nC_3 + ^nC_5 + ...$$\n",
    "\n",
    "\n",
    "- Everyone knows the binomial expansion of $(1+x)^n = ^nC_0.x^0 + ^nC_1.x^1 + ^nC_2.x^2 + ... ^nC_n.x^n$\n",
    "- If you put $x = -1$ here, you'll get the above result. Easy right? \n",
    "\n",
    "#### How does that help?\n",
    "\n",
    "- Let us take an **n - bit** binary string \n",
    "- How many ways are there to place zero **1s** in the n places? $^nC_0$ \n",
    "- One **1**? $^nC_1$\n",
    "- Two **1s**? $^nC_2$\n",
    "- You get the point right! "
   ]
  },
  {
   "cell_type": "markdown",
   "id": "d1fa7cee",
   "metadata": {},
   "source": [
    "#### Can we get a balanced oracle?\n",
    "\n",
    "- Now think of the basis states as these input bit strings \n",
    "- Each basis state which has **odd number of set 1s** will result in a **bit flip** on the $|-\\rangle$ qubit and each basis state which has **even number of set 1s** (including 0) will result in **no bit flips** on $|-\\rangle$ \n",
    "- How many basis states which have **odd number of set 1s** exist? \n",
    "    $$^nC_1 + ^nC_3 + ^nC_5 + ... = Odd$$\n",
    "- For even? \n",
    "    $$^nC_0 + ^nC_2 + ^nC_4 + ... = Even$$ \n",
    "    \n",
    "- We just proved that $Odd = Even$ in the above cell.\n",
    "- Hence we have equal number of basis states with output as **1** and as **0**. \n",
    "\n",
    "\n",
    "#### Yes! Balanced Oracle!!!\n",
    "\n",
    "- We can also have transformations like - \n",
    "\n",
    "<img src = 'one-x-3-cnot.svg' width=60%>"
   ]
  },
  {
   "cell_type": "code",
   "execution_count": 173,
   "id": "aa1f94ce",
   "metadata": {
    "ExecuteTime": {
     "end_time": "2022-10-10T16:40:02.429018Z",
     "start_time": "2022-10-10T16:40:02.423801Z"
    }
   },
   "outputs": [],
   "source": [
    "def get_balanced_oracle(n):\n",
    "    print(f\"Input bit size : {n}\")\n",
    "    print(\"Balanced!\")\n",
    "    \n",
    "    oracle_qc = QuantumCircuit(n+1)\n",
    "    \n",
    "    # First generate a random number that tells us which CNOTs to\n",
    "    # wrap in X-gates:\n",
    "    b = np.random.randint(1,2**n)\n",
    "    \n",
    "    # Next, format 'b' as a binary string of length 'n', padded with zeros:\n",
    "    b_str = format(b, '0'+str(n)+'b')\n",
    "    \n",
    "    # Next, we place the first X-gates. Each digit in our binary string \n",
    "    # corresponds to a qubit, if the digit is 0, we do nothing, if it's 1\n",
    "    # we apply an X-gate to that qubit:\n",
    "    for qubit in range(len(b_str)):\n",
    "        if b_str[qubit] == '1':\n",
    "            oracle_qc.x(qubit)\n",
    "            \n",
    "            \n",
    "    # Do the controlled-NOT gates for each qubit, using the output qubit \n",
    "    # as the target:\n",
    "    for qubit in range(n):\n",
    "        oracle_qc.cx(qubit, n)\n",
    "        \n",
    "        \n",
    "    # Next, place the final X-gates\n",
    "    for qubit in range(len(b_str)):\n",
    "        if b_str[qubit] == '1':\n",
    "            oracle_qc.x(qubit)\n",
    "    return oracle_qc"
   ]
  },
  {
   "cell_type": "code",
   "execution_count": 174,
   "id": "0d6f8299",
   "metadata": {
    "ExecuteTime": {
     "end_time": "2022-10-10T16:40:02.642515Z",
     "start_time": "2022-10-10T16:40:02.629990Z"
    }
   },
   "outputs": [],
   "source": [
    "def test_balanced_oracle(n, oracle):\n",
    "    print(\"Testing oracle!!\")\n",
    "    circ = QuantumCircuit(n+1, n+1)\n",
    "  \n",
    "    circ.h(range(n))\n",
    "    circ.barrier()\n",
    "    circ.compose(oracle, qubits = range(n+1), inplace = True)\n",
    "    circ.barrier()\n",
    "    \n",
    "    circ.measure(range(n+1), range(n+1))\n",
    "    display(circ.draw('mpl'))\n",
    "    counts = execute(circ, backend, shots = 10000).result().get_counts()\n",
    "    display(plot_histogram(counts))\n",
    "    print(counts)"
   ]
  },
  {
   "cell_type": "code",
   "execution_count": 175,
   "id": "046db6c1",
   "metadata": {
    "ExecuteTime": {
     "end_time": "2022-10-10T16:40:03.214043Z",
     "start_time": "2022-10-10T16:40:02.855484Z"
    }
   },
   "outputs": [
    {
     "name": "stdout",
     "output_type": "stream",
     "text": [
      "Input bit size : 3\n",
      "Balanced!\n",
      "Testing oracle!!\n"
     ]
    },
    {
     "data": {
      "image/png": "[encoded data removed]",
      "text/plain": [
       "<Figure size 808.997x325.08 with 1 Axes>"
      ]
     },
     "metadata": {},
     "output_type": "display_data"
    },
    {
     "data": {
      "image/png": "[encoded data removed]",
      "text/plain": [
       "<Figure size 504x360 with 1 Axes>"
      ]
     },
     "metadata": {},
     "output_type": "display_data"
    },
    {
     "name": "stdout",
     "output_type": "stream",
     "text": [
      "{'0101': 1259, '1100': 1297, '1111': 1262, '1010': 1231, '0110': 1248, '0000': 1166, '0011': 1292, '1001': 1245}\n"
     ]
    }
   ],
   "source": [
    "oracle = get_balanced_oracle(3)\n",
    "test_balanced_oracle(3, oracle)"
   ]
  },
  {
   "cell_type": "markdown",
   "id": "8ff49c76",
   "metadata": {},
   "source": [
    "- Half the inputs output 0 and other half output 1!"
   ]
  },
  {
   "cell_type": "code",
   "execution_count": 184,
   "id": "f3416f8e",
   "metadata": {
    "ExecuteTime": {
     "end_time": "2022-10-10T16:43:05.940028Z",
     "start_time": "2022-10-10T16:43:05.931986Z"
    }
   },
   "outputs": [],
   "source": [
    "def oracle_builder(n):\n",
    "    oracle_type = np.random.randint(0,2)\n",
    "    if oracle_type == 0:\n",
    "        return \"constant\", get_constant_oracle(n)\n",
    "    else:\n",
    "        return \"balanced\", get_balanced_oracle(n)"
   ]
  },
  {
   "cell_type": "markdown",
   "id": "7e3f074c",
   "metadata": {},
   "source": [
    "## Step 3 - Create the Deutsch Jozsa Circuit\n",
    "<img src=\"step-3.png\" width=60%>"
   ]
  },
  {
   "cell_type": "code",
   "execution_count": 185,
   "id": "f4bd5e31",
   "metadata": {
    "ExecuteTime": {
     "end_time": "2022-10-10T16:43:07.095776Z",
     "start_time": "2022-10-10T16:43:07.090340Z"
    }
   },
   "outputs": [],
   "source": [
    "def build_dj_circuit(N, oracle):\n",
    "    circuit = QuantumCircuit(N + 1, N )\n",
    "    \n",
    "    build_init_state(N ,circuit)\n",
    "    \n",
    "    circuit.barrier()\n",
    "    circuit.compose(oracle, inplace = True)\n",
    "    circuit.barrier()\n",
    "    circuit.h(range(N))\n",
    "    \n",
    "    circuit.measure(range(N), range(N))\n",
    "    \n",
    "    return circuit "
   ]
  },
  {
   "cell_type": "code",
   "execution_count": 186,
   "id": "6c159381",
   "metadata": {
    "ExecuteTime": {
     "end_time": "2022-10-10T16:43:07.431039Z",
     "start_time": "2022-10-10T16:43:07.421418Z"
    }
   },
   "outputs": [
    {
     "name": "stdout",
     "output_type": "stream",
     "text": [
      "Input bit size : 3\n",
      "Balanced!\n"
     ]
    }
   ],
   "source": [
    "N = 3 \n",
    "type_oracle, dj_oracle = oracle_builder(N)\n",
    "dj_circuit = build_dj_circuit(N, dj_oracle)"
   ]
  },
  {
   "cell_type": "code",
   "execution_count": 187,
   "id": "0d9e12f1",
   "metadata": {
    "ExecuteTime": {
     "end_time": "2022-10-10T16:43:07.921425Z",
     "start_time": "2022-10-10T16:43:07.704039Z"
    }
   },
   "outputs": [
    {
     "data": {
      "image/png": "[encoded data removed]",
      "text/plain": [
       "<Figure size 929.397x325.08 with 1 Axes>"
      ]
     },
     "execution_count": 187,
     "metadata": {},
     "output_type": "execute_result"
    }
   ],
   "source": [
    "dj_circuit.draw('mpl')"
   ]
  },
  {
   "cell_type": "markdown",
   "id": "5370fb30",
   "metadata": {
    "heading_collapsed": true
   },
   "source": [
    "## Step 4 - Run the circuit\n",
    "- As expected, probability of $|0\\rangle ^{\\otimes n}$ should be - \n",
    "    - **1** if $\\mathbf{f}(x)$ is *constant*\n",
    "    - **0** if $\\mathbf{f}(x)$ is *balanced*"
   ]
  },
  {
   "cell_type": "code",
   "execution_count": 208,
   "id": "af5aece9",
   "metadata": {
    "ExecuteTime": {
     "end_time": "2022-10-10T17:42:12.763908Z",
     "start_time": "2022-10-10T17:42:12.491088Z"
    },
    "hidden": true
   },
   "outputs": [
    {
     "name": "stdout",
     "output_type": "stream",
     "text": [
      "{'1111': 100}\n"
     ]
    },
    {
     "data": {
      "image/png": "[encoded data removed]",
      "text/plain": [
       "<Figure size 504x360 with 1 Axes>"
      ]
     },
     "execution_count": 208,
     "metadata": {},
     "output_type": "execute_result"
    }
   ],
   "source": [
    "result = execute(dj_circuit, backend, shots = 100).result()\n",
    "counts = result.get_counts()\n",
    "\n",
    "print(counts)\n",
    "plot_histogram(counts)"
   ]
  },
  {
   "cell_type": "markdown",
   "id": "b3ec606c",
   "metadata": {
    "heading_collapsed": true
   },
   "source": [
    "## Step 5 - Interpret Results\n",
    "- The following block transforms our theoretical expectation into code!"
   ]
  },
  {
   "cell_type": "code",
   "execution_count": 193,
   "id": "1889b176",
   "metadata": {
    "ExecuteTime": {
     "end_time": "2022-10-10T16:53:28.037464Z",
     "start_time": "2022-10-10T16:53:28.028730Z"
    },
    "hidden": true
   },
   "outputs": [
    {
     "name": "stdout",
     "output_type": "stream",
     "text": [
      "Correct!!\n"
     ]
    }
   ],
   "source": [
    "state = \"0\"*N \n",
    "if type_oracle == \"balanced\":\n",
    "    # their should be NO presence of the 00..0 state \n",
    "    if state not in counts:\n",
    "        print(\"Correct!!\")\n",
    "    else:\n",
    "        print(\"Wrong!!\")\n",
    "else:\n",
    "    # only 00..0 should exist! \n",
    "    if state in counts and len(counts) == 1:\n",
    "        print(\"Correct!!\")\n",
    "    else:\n",
    "        print(\"Wrong!!\")\n",
    "    "
   ]
  },
  {
   "cell_type": "markdown",
   "id": "bdaab744",
   "metadata": {
    "heading_collapsed": true
   },
   "source": [
    "## Stress Test!"
   ]
  },
  {
   "cell_type": "code",
   "execution_count": 194,
   "id": "0d061b7f",
   "metadata": {
    "ExecuteTime": {
     "end_time": "2022-10-10T16:53:35.332957Z",
     "start_time": "2022-10-10T16:53:34.487847Z"
    },
    "collapsed": true,
    "hidden": true
   },
   "outputs": [
    {
     "name": "stdout",
     "output_type": "stream",
     "text": [
      "Input bit size : 6\n",
      "Constant 1!\n",
      "Input bit size : 7\n",
      "Balanced!\n",
      "Input bit size : 4\n",
      "Balanced!\n",
      "Input bit size : 7\n",
      "Constant 0!\n",
      "Input bit size : 7\n",
      "Constant 1!\n",
      "Input bit size : 2\n",
      "Balanced!\n",
      "Input bit size : 9\n",
      "Constant 1!\n",
      "Input bit size : 7\n",
      "Constant 1!\n",
      "Input bit size : 2\n",
      "Constant 1!\n",
      "Input bit size : 7\n",
      "Balanced!\n",
      "Input bit size : 4\n",
      "Constant 0!\n",
      "Input bit size : 5\n",
      "Balanced!\n",
      "Input bit size : 7\n",
      "Balanced!\n",
      "Input bit size : 8\n",
      "Balanced!\n",
      "Input bit size : 3\n",
      "Balanced!\n",
      "Input bit size : 3\n",
      "Constant 1!\n",
      "Input bit size : 7\n",
      "Balanced!\n",
      "Input bit size : 7\n",
      "Balanced!\n",
      "Input bit size : 5\n",
      "Constant 0!\n",
      "Input bit size : 9\n",
      "Balanced!\n",
      "Input bit size : 2\n",
      "Constant 1!\n",
      "Input bit size : 3\n",
      "Balanced!\n",
      "Input bit size : 4\n",
      "Constant 0!\n",
      "Input bit size : 8\n",
      "Balanced!\n",
      "Input bit size : 7\n",
      "Constant 0!\n",
      "Input bit size : 2\n",
      "Balanced!\n",
      "Input bit size : 4\n",
      "Constant 1!\n",
      "Input bit size : 3\n",
      "Balanced!\n",
      "Input bit size : 5\n",
      "Constant 0!\n",
      "Input bit size : 9\n",
      "Balanced!\n",
      "Input bit size : 9\n",
      "Constant 0!\n",
      "Input bit size : 5\n",
      "Constant 1!\n",
      "Input bit size : 6\n",
      "Balanced!\n",
      "Input bit size : 4\n",
      "Balanced!\n",
      "Input bit size : 8\n",
      "Constant 0!\n",
      "Input bit size : 4\n",
      "Balanced!\n",
      "Input bit size : 8\n",
      "Balanced!\n",
      "Input bit size : 8\n",
      "Balanced!\n",
      "Input bit size : 5\n",
      "Balanced!\n",
      "Input bit size : 7\n",
      "Constant 0!\n",
      "Input bit size : 5\n",
      "Constant 0!\n",
      "Input bit size : 5\n",
      "Balanced!\n",
      "Input bit size : 5\n",
      "Constant 1!\n",
      "Input bit size : 3\n",
      "Balanced!\n",
      "Input bit size : 7\n",
      "Constant 0!\n",
      "Input bit size : 6\n",
      "Balanced!\n",
      "Input bit size : 6\n",
      "Constant 1!\n",
      "Input bit size : 3\n",
      "Constant 0!\n",
      "Input bit size : 2\n",
      "Constant 0!\n",
      "Input bit size : 5\n",
      "Constant 0!\n",
      "Correct executions : 50\n",
      "Incorrect one : 0\n"
     ]
    }
   ],
   "source": [
    "correct = 0 \n",
    "incorrect = 0 \n",
    "\n",
    "for _ in range(50):\n",
    "    \n",
    "    N = np.random.randint(2, 10)\n",
    "    \n",
    "    \n",
    "    type_oracle, dj_oracle = oracle_builder(N)\n",
    "    dj_circuit = build_dj_circuit(N, dj_oracle)\n",
    "    \n",
    "    # execute \n",
    "    result = execute(dj_circuit, backend, shots = 100).result()\n",
    "    counts = result.get_counts()\n",
    "    \n",
    "    # the expected all 0 state \n",
    "    state = \"0\"*N \n",
    "        \n",
    "    #interpret \n",
    "    if type_oracle == \"balanced\":\n",
    "        # their should be NO presence of the 00..0 state \n",
    "        if state not in counts:\n",
    "            correct += 1\n",
    "        else:\n",
    "            incorrect += 1\n",
    "    else:\n",
    "        # only 00..0 should exist! \n",
    "        if state in counts and len(counts) == 1:\n",
    "            correct += 1\n",
    "        else:\n",
    "            incorrect += 1\n",
    "            \n",
    "print(\"Correct executions :\", correct )\n",
    "print(\"Incorrect one :\", incorrect)"
   ]
  },
  {
   "attachments": {},
   "cell_type": "markdown",
   "id": "eb8bad28",
   "metadata": {
    "heading_collapsed": true
   },
   "source": [
    "## You did it!\n",
    "- We've successfully executed our first quantum algorithm \n",
    "- This will surely help you in realizing how circuits are built using qiskit and how we can use the day - to - day programming constucts like **loops, functions, classes** and much more to build quantum circuits with **Qiskit!**\n",
    "\n",
    "\n"
   ]
  },
  {
   "cell_type": "markdown",
   "id": "6bef8a4e",
   "metadata": {
    "hidden": true
   },
   "source": [
    "![](full-diagram.png)"
   ]
  },
  {
   "cell_type": "markdown",
   "id": "3cb996ba",
   "metadata": {},
   "source": [
    "## Run Deutsch-Jozsa on real hardware!"
   ]
  },
  {
   "cell_type": "code",
   "execution_count": 197,
   "id": "c5e4fea8",
   "metadata": {
    "ExecuteTime": {
     "end_time": "2022-10-10T17:21:09.925502Z",
     "start_time": "2022-10-10T17:20:52.715986Z"
    }
   },
   "outputs": [
    {
     "name": "stderr",
     "output_type": "stream",
     "text": [
      "ibmqfactory.load_account:WARNING:2022-10-10 22:50:53,863: Credentials are already in use. The existing account in the session will be replaced.\n"
     ]
    },
    {
     "data": {
      "text/plain": [
       "<IBMQBackend('ibmq_quito') from IBMQ(hub='ibm-q', group='open', project='main')>"
      ]
     },
     "execution_count": 197,
     "metadata": {},
     "output_type": "execute_result"
    }
   ],
   "source": [
    "from qiskit import IBMQ\n",
    "from qiskit.providers.ibmq import least_busy\n",
    "\n",
    "# Go to https://quantum-computing.ibm.com/\n",
    "# Register\n",
    "# On your welcome page you should see API token field which you can copy and use during lab\n",
    "\n",
    "try:\n",
    "    provider = IBMQ.load_account()\n",
    "except:\n",
    "    API_KEY = None \n",
    "    IBMQ.save_account(API_KEY)\n",
    "    provider = IBMQ.load_account()\n",
    "    \n",
    "least_busy_device = least_busy(provider.backends(simulator=False, filters=lambda b: b.configuration().n_qubits >= 4))\n",
    "\n",
    "least_busy_device"
   ]
  },
  {
   "cell_type": "code",
   "execution_count": 198,
   "id": "ef0f07fd",
   "metadata": {
    "ExecuteTime": {
     "end_time": "2022-10-10T17:21:22.839988Z",
     "start_time": "2022-10-10T17:21:16.559644Z"
    }
   },
   "outputs": [
    {
     "name": "stdout",
     "output_type": "stream",
     "text": [
      "Input bit size : 4\n",
      "Balanced!\n"
     ]
    }
   ],
   "source": [
    "N = 4\n",
    "\n",
    "type_oracle, dj_oracle = oracle_builder(N)\n",
    "dj_circuit = build_dj_circuit(N, dj_oracle)\n",
    "job = execute(dj_circuit, backend=least_busy_device, shots=1000)"
   ]
  },
  {
   "cell_type": "code",
   "execution_count": 203,
   "id": "ca62a496",
   "metadata": {
    "ExecuteTime": {
     "end_time": "2022-10-10T17:28:37.505921Z",
     "start_time": "2022-10-10T17:28:36.417113Z"
    }
   },
   "outputs": [
    {
     "data": {
      "text/plain": [
       "<JobStatus.DONE: 'job has successfully run'>"
      ]
     },
     "execution_count": 203,
     "metadata": {},
     "output_type": "execute_result"
    }
   ],
   "source": [
    "job.status()"
   ]
  },
  {
   "cell_type": "code",
   "execution_count": 204,
   "id": "87273f0a",
   "metadata": {
    "ExecuteTime": {
     "end_time": "2022-10-10T17:28:40.113129Z",
     "start_time": "2022-10-10T17:28:40.100367Z"
    }
   },
   "outputs": [
    {
     "data": {
      "text/plain": [
       "<JobStatus.DONE: 'job has successfully run'>"
      ]
     },
     "execution_count": 204,
     "metadata": {},
     "output_type": "execute_result"
    }
   ],
   "source": [
    "job.wait_for_final_state()\n",
    "job.status()"
   ]
  },
  {
   "cell_type": "code",
   "execution_count": 207,
   "id": "379e2ab5",
   "metadata": {
    "ExecuteTime": {
     "end_time": "2022-10-10T17:41:50.091916Z",
     "start_time": "2022-10-10T17:41:49.738672Z"
    }
   },
   "outputs": [
    {
     "name": "stdout",
     "output_type": "stream",
     "text": [
      "Type : balanced\n"
     ]
    },
    {
     "data": {
      "image/png": "[encoded data removed]",
      "text/plain": [
       "<Figure size 504x360 with 1 Axes>"
      ]
     },
     "execution_count": 207,
     "metadata": {},
     "output_type": "execute_result"
    }
   ],
   "source": [
    "counts = job.result().get_counts()\n",
    "\n",
    "state = \"0\"*N \n",
    "print(\"Type :\", type_oracle)\n",
    "\n",
    "plot_histogram(counts)"
   ]
  },
  {
   "cell_type": "markdown",
   "id": "c135e588",
   "metadata": {},
   "source": [
    "- You can clearly see that the probability of the $|0\\rangle^{\\otimes n}$ state is very very low ~ 0\n",
    "- And our function was **balanced!**\n",
    "- That's what we expected and that is what experiment showed us!"
   ]
  },
  {
   "cell_type": "markdown",
   "id": "e1fe4279",
   "metadata": {},
   "source": [
    "More info, more qubits: https://qiskit.org/textbook/ch-algorithms/deutsch-jozsa.html"
   ]
  }
 ],
 "metadata": {
  "kernelspec": {
   "display_name": "Python 3",
   "language": "python",
   "name": "python3"
  },
  "language_info": {
   "codemirror_mode": {
    "name": "ipython",
    "version": 3
   },
   "file_extension": ".py",
   "mimetype": "text/x-python",
   "name": "python",
   "nbconvert_exporter": "python",
   "pygments_lexer": "ipython3",
   "version": "3.8.10"
  }
 },
 "nbformat": 4,
 "nbformat_minor": 5
}
