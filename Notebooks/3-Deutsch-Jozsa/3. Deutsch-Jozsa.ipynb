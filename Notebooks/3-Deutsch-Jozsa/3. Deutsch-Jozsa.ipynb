{
 "cells": [
  {
   "cell_type": "markdown",
   "id": "ffdd2add",
   "metadata": {
    "slideshow": {
     "slide_type": "slide"
    }
   },
   "source": [
    "# The Deutsch Jozsa Algorithm\n",
    "- Identify whether a given function is constant or balanced!"
   ]
  },
  {
   "cell_type": "code",
   "execution_count": 21,
   "id": "7b5277f9",
   "metadata": {
    "ExecuteTime": {
     "end_time": "2022-10-11T06:47:40.105008Z",
     "start_time": "2022-10-11T06:47:40.101327Z"
    },
    "slideshow": {
     "slide_type": "fragment"
    }
   },
   "outputs": [],
   "source": [
    "#imports\n",
    "from IPython.display import Latex\n",
    "import numpy as np\n",
    "from qiskit import QuantumCircuit, QuantumRegister, ClassicalRegister, Aer, transpile, execute\n",
    "from qiskit.circuit.library import *\n",
    "from qiskit.circuit.random import random_circuit\n",
    "from qiskit.visualization import plot_histogram, array_to_latex\n",
    "\n",
    "backend = Aer.get_backend('qasm_simulator')"
   ]
  },
  {
   "cell_type": "markdown",
   "id": "4fdb78fc",
   "metadata": {
    "slideshow": {
     "slide_type": "slide"
    }
   },
   "source": [
    "# Workshop contents\n",
    "- Solving problems with Quantum Computers\n",
    "- Deutsch-Jozsa Algorithm\n",
    "- Run on real hardware"
   ]
  },
  {
   "cell_type": "markdown",
   "id": "7bc765cd",
   "metadata": {
    "slideshow": {
     "slide_type": "slide"
    }
   },
   "source": [
    "\n",
    "![](full-diagram.png \"Solving Problems on Quantum Computers\")"
   ]
  },
  {
   "cell_type": "markdown",
   "id": "2e4a3bf3",
   "metadata": {},
   "source": [
    "## Recap - Quantum Circuit Model\n",
    "\n",
    "<img src='circuit-example.png' width=70%>"
   ]
  },
  {
   "cell_type": "markdown",
   "id": "abe51799",
   "metadata": {},
   "source": [
    "## The Quantum Algorithm - Deutsch-Jozsa\n",
    "\n",
    "- Only need to run f(x) once to know if constant or balanced. O(1)\n",
    "- Published in 1992, first example of a quantum algorithm that performs better than the best classical algorithm.\n",
    "\n",
    "\n",
    "\n"
   ]
  },
  {
   "cell_type": "markdown",
   "id": "f2e52192",
   "metadata": {},
   "source": [
    "![](diagram-3.png)"
   ]
  },
  {
   "cell_type": "markdown",
   "id": "5e4d143c",
   "metadata": {},
   "source": [
    "## Step 1 - Prepare the initial circuit\n",
    "<img src='step-0.png' width=60%>\n",
    "\n",
    "\n",
    "<img src='step-1.png' width=60%>\n"
   ]
  },
  {
   "cell_type": "code",
   "execution_count": 31,
   "id": "cbfe2872",
   "metadata": {
    "ExecuteTime": {
     "end_time": "2022-10-11T06:55:39.729878Z",
     "start_time": "2022-10-11T06:55:39.725980Z"
    }
   },
   "outputs": [],
   "source": [
    "N = 3"
   ]
  },
  {
   "cell_type": "code",
   "execution_count": 32,
   "id": "3896b4ba",
   "metadata": {
    "ExecuteTime": {
     "end_time": "2022-10-11T06:55:40.975886Z",
     "start_time": "2022-10-11T06:55:40.972485Z"
    }
   },
   "outputs": [],
   "source": [
    "dj_circuit = QuantumCircuit(N + 1)"
   ]
  },
  {
   "cell_type": "code",
   "execution_count": 33,
   "id": "af8c45aa",
   "metadata": {
    "ExecuteTime": {
     "end_time": "2022-10-11T06:55:42.228945Z",
     "start_time": "2022-10-11T06:55:42.225336Z"
    },
    "code_folding": []
   },
   "outputs": [],
   "source": [
    "# just add an X gate on the circuit \n",
    "def build_init_state(n, circuit):\n",
    "    # step 1\n",
    "    circuit.x(n)\n",
    "    circuit.barrier()\n",
    "    \n",
    "    # step 2\n",
    "    circuit.h(n)\n",
    "    circuit.h(range(n))"
   ]
  },
  {
   "cell_type": "code",
   "execution_count": 34,
   "id": "f8b68d8d",
   "metadata": {
    "ExecuteTime": {
     "end_time": "2022-10-11T06:55:44.454577Z",
     "start_time": "2022-10-11T06:55:44.450522Z"
    }
   },
   "outputs": [],
   "source": [
    "build_init_state(N, dj_circuit)"
   ]
  },
  {
   "cell_type": "markdown",
   "id": "11872404",
   "metadata": {},
   "source": [
    "#### Draw"
   ]
  },
  {
   "cell_type": "code",
   "execution_count": 28,
   "id": "033342ba",
   "metadata": {
    "ExecuteTime": {
     "end_time": "2022-10-11T06:54:46.799509Z",
     "start_time": "2022-10-11T06:54:46.793565Z"
    }
   },
   "outputs": [
    {
     "data": {
      "text/plain": [
       "<qiskit.circuit.instructionset.InstructionSet at 0x7fcac0784dc0>"
      ]
     },
     "execution_count": 28,
     "metadata": {},
     "output_type": "execute_result"
    }
   ],
   "source": [
    "dj_circuit.h(range(N))"
   ]
  },
  {
   "cell_type": "code",
   "execution_count": 29,
   "id": "2e4b3f28",
   "metadata": {
    "ExecuteTime": {
     "end_time": "2022-10-11T06:54:47.502662Z",
     "start_time": "2022-10-11T06:54:47.271146Z"
    }
   },
   "outputs": [
    {
     "data": {
      "image/png": "[encoded data removed]",
      "text/plain": [
       "<Figure size 146.797x264.88 with 1 Axes>"
      ]
     },
     "execution_count": 29,
     "metadata": {},
     "output_type": "execute_result"
    }
   ],
   "source": [
    "dj_circuit.draw('mpl')"
   ]
  },
  {
   "cell_type": "code",
   "execution_count": 30,
   "id": "01e4142e",
   "metadata": {
    "ExecuteTime": {
     "end_time": "2022-10-11T06:54:51.750254Z",
     "start_time": "2022-10-11T06:54:51.741804Z"
    }
   },
   "outputs": [
    {
     "data": {
      "text/html": [
       "<pre style=\"word-wrap: normal;white-space: pre;background: #fff0;line-height: 1.1;font-family: &quot;Courier New&quot;,Courier,monospace\">     ┌───┐\n",
       "q_0: ┤ H ├\n",
       "     ├───┤\n",
       "q_1: ┤ H ├\n",
       "     ├───┤\n",
       "q_2: ┤ H ├\n",
       "     └───┘\n",
       "q_3: ─────\n",
       "          </pre>"
      ],
      "text/plain": [
       "     ┌───┐\n",
       "q_0: ┤ H ├\n",
       "     ├───┤\n",
       "q_1: ┤ H ├\n",
       "     ├───┤\n",
       "q_2: ┤ H ├\n",
       "     └───┘\n",
       "q_3: ─────\n",
       "          "
      ]
     },
     "execution_count": 30,
     "metadata": {},
     "output_type": "execute_result"
    }
   ],
   "source": [
    "dj_circuit.draw()"
   ]
  },
  {
   "cell_type": "code",
   "execution_count": 35,
   "id": "245aa0f7",
   "metadata": {
    "ExecuteTime": {
     "end_time": "2022-10-11T06:55:49.374028Z",
     "start_time": "2022-10-11T06:55:48.990757Z"
    }
   },
   "outputs": [
    {
     "data": {
      "image/png": "[encoded data removed]",
      "text/plain": [
       "<Figure size 400.796x397.32 with 1 Axes>"
      ]
     },
     "execution_count": 35,
     "metadata": {},
     "output_type": "execute_result"
    }
   ],
   "source": [
    "dj_circuit.draw('mpl', scale = 1.5)"
   ]
  },
  {
   "cell_type": "markdown",
   "id": "9a4cf855",
   "metadata": {},
   "source": [
    "## Step 2 - Create a Deutsch-Jozsa Circuit Oracle\n",
    "- As we studied in our lecture, we have the following requirement - \n",
    "\n",
    "<img src='step-2.png' width=60%>"
   ]
  },
  {
   "cell_type": "markdown",
   "id": "197ae037",
   "metadata": {},
   "source": [
    "### Constant Oracles "
   ]
  },
  {
   "cell_type": "markdown",
   "id": "5eefbfe6",
   "metadata": {},
   "source": [
    "- $\\mathbf{f}(x) = 0$ then we have the state of the $|-\\rangle$ qubit as **unchanged**, so we just use the $\\mathbf{I}$ operator over it \n",
    "- In the other case, when $\\mathbf{f}(x) = 1$ then we would have a *flip* over the phase of the extra qubit for each input $x$. This would mean we would apply just an $X$ gate to the $|-\\rangle$ qubit"
   ]
  },
  {
   "cell_type": "code",
   "execution_count": 7,
   "id": "847375ba",
   "metadata": {
    "ExecuteTime": {
     "end_time": "2022-10-11T06:07:02.974475Z",
     "start_time": "2022-10-11T06:07:02.965585Z"
    }
   },
   "outputs": [],
   "source": [
    "def get_constant_oracle(n):\n",
    "    circuit = QuantumCircuit(n+1)\n",
    "    circ_type = np.random.randint(0,2)\n",
    "    print(f\"Input bit size : {n}\")\n",
    "    print(\"Constant 0!\") if circ_type == 0 else print(\"Constant 1!\")\n",
    "    if circ_type == 1:\n",
    "        circuit.x(n)\n",
    "    return circuit "
   ]
  },
  {
   "cell_type": "code",
   "execution_count": 39,
   "id": "959c6204",
   "metadata": {
    "ExecuteTime": {
     "end_time": "2022-10-11T06:59:29.965067Z",
     "start_time": "2022-10-11T06:59:29.754884Z"
    }
   },
   "outputs": [
    {
     "name": "stdout",
     "output_type": "stream",
     "text": [
      "Input bit size : 3\n",
      "Constant 1!\n"
     ]
    },
    {
     "data": {
      "image/png": "[encoded data removed]",
      "text/plain": [
       "<Figure size 220.196x397.32 with 1 Axes>"
      ]
     },
     "execution_count": 39,
     "metadata": {},
     "output_type": "execute_result"
    }
   ],
   "source": [
    "oracle = get_constant_oracle(N)\n",
    "oracle.draw('mpl', scale = 1.5)"
   ]
  },
  {
   "cell_type": "markdown",
   "id": "f8769cb4",
   "metadata": {},
   "source": [
    "### Balanced Oracles"
   ]
  },
  {
   "attachments": {
    "image.png": {
     "image/png": "[encoded data removed]"
    }
   },
   "cell_type": "markdown",
   "id": "f530d8a4",
   "metadata": {},
   "source": [
    "- For a balanced function, there are many different circuits we can create. One of the ways we can guarantee our circuit is balanced is by performing a CNOT for each qubit in register 1, with the qubit in register 2 as the target.\n",
    "\n",
    "Example : \n",
    "\n",
    "<img src='3-cnot.svg' width=40%>\n",
    "\n",
    "Here, the top 3 qubits form the input register, and the bottom qubit is the output register.\n",
    "You can see from the table below that there are exactly **half** input states which output **0** and the other half output **1** \n",
    "\n",
    "![image.png](attachment:image.png)"
   ]
  },
  {
   "cell_type": "markdown",
   "id": "55895373",
   "metadata": {},
   "source": [
    "#### Why is this true? \n",
    "\n",
    "- This is because of the following fact - \n",
    "    $$^nC_0 + ^nC_2 + ^nC_4 + ... = ^nC_1 + ^nC_3 + ^nC_5 + ...$$\n",
    "\n",
    "\n",
    "- Everyone knows the binomial expansion of $(1+x)^n = ^nC_0.x^0 + ^nC_1.x^1 + ^nC_2.x^2 + ... ^nC_n.x^n$\n",
    "- If you put $x = -1$ here, you'll get the above result. Easy right? \n",
    "\n",
    "#### How does that help?\n",
    "\n",
    "- Let us take an **n - bit** binary string \n",
    "- How many ways are there to place zero **1s** in the n places? $^nC_0$ \n",
    "- One **1**? $^nC_1$\n",
    "- Two **1s**? $^nC_2$\n",
    "- You get the point right! "
   ]
  },
  {
   "cell_type": "markdown",
   "id": "62b3a901",
   "metadata": {},
   "source": [
    "#### Can we get a balanced oracle?\n",
    "\n",
    "- Now think of the basis states as these input bit strings \n",
    "- Each basis state which has **odd number of set 1s** will result in a **bit flip** on the $|-\\rangle$ qubit and each basis state which has **even number of set 1s** (including 0) will result in **no bit flips** on $|-\\rangle$ \n",
    "- How many basis states which have **odd number of set 1s** exist? \n",
    "    $$^nC_1 + ^nC_3 + ^nC_5 + ... = Odd$$\n",
    "- For even? \n",
    "    $$^nC_0 + ^nC_2 + ^nC_4 + ... = Even$$ \n",
    "    \n",
    "- We just proved that $Odd = Even$ in the above cell.\n",
    "- Hence we have equal number of basis states with output as **1** and as **0**. \n",
    "\n",
    "\n",
    "#### Yes! Balanced Oracle!!!\n",
    "\n",
    "- We can also have transformations like - \n",
    "\n",
    "<img src = 'one-x-3-cnot.svg' width=60%>"
   ]
  },
  {
   "cell_type": "code",
   "execution_count": 46,
   "id": "ac14b22c",
   "metadata": {
    "ExecuteTime": {
     "end_time": "2022-10-11T07:11:24.538503Z",
     "start_time": "2022-10-11T07:11:24.529655Z"
    }
   },
   "outputs": [],
   "source": [
    "def get_balanced_oracle(n):\n",
    "    print(f\"Input bit size : {n}\")\n",
    "    print(\"Balanced!\")\n",
    "    \n",
    "    oracle_qc = QuantumCircuit(n+1)\n",
    "    \n",
    "    # First generate a random number that tells us which CNOTs to\n",
    "    # wrap in X-gates:\n",
    "    b = np.random.randint(1,2**n)\n",
    "    \n",
    "    # Next, format 'b' as a binary string of length 'n', padded with zeros:\n",
    "    b_str = format(b, '0'+str(n)+'b')\n",
    "    print(b_str)\n",
    "    \n",
    "    # Next, we place the first X-gates. Each digit in our binary string \n",
    "    # corresponds to a qubit, if the digit is 0, we do nothing, if it's 1\n",
    "    # we apply an X-gate to that qubit:\n",
    "    for qubit in range(len(b_str)):\n",
    "        if b_str[qubit] == '1':\n",
    "            oracle_qc.x(qubit)\n",
    "            \n",
    "    \n",
    "    # Do the controlled-NOT gates for each qubit, using the output qubit \n",
    "    # as the target:\n",
    "    for qubit in range(n):\n",
    "        oracle_qc.cx(qubit, n)\n",
    "        \n",
    "        \n",
    "    # Next, place the final X-gates\n",
    "    for qubit in range(len(b_str)):\n",
    "        if b_str[qubit] == '1':\n",
    "            oracle_qc.x(qubit)\n",
    "            \n",
    "            \n",
    "    return oracle_qc"
   ]
  },
  {
   "cell_type": "code",
   "execution_count": 47,
   "id": "d45ecfe9",
   "metadata": {
    "ExecuteTime": {
     "end_time": "2022-10-11T07:11:25.256070Z",
     "start_time": "2022-10-11T07:11:25.249605Z"
    }
   },
   "outputs": [],
   "source": [
    "def test_balanced_oracle(n, oracle):\n",
    "    print(\"Testing oracle!!\")\n",
    "    circ = QuantumCircuit(n+1, n+1)\n",
    "  \n",
    "    circ.h(range(n))\n",
    "    circ.barrier()\n",
    "    circ.compose(oracle, qubits = range(n+1), inplace = True)\n",
    "    circ.barrier()\n",
    "    \n",
    "    circ.measure(range(n+1), range(n+1))\n",
    "    display(circ.draw('mpl'))\n",
    "    counts = execute(circ, backend, shots = 10000).result().get_counts()\n",
    "    display(plot_histogram(counts))\n",
    "    print(counts)"
   ]
  },
  {
   "cell_type": "code",
   "execution_count": 48,
   "id": "9805c6d8",
   "metadata": {
    "ExecuteTime": {
     "end_time": "2022-10-11T07:11:29.518842Z",
     "start_time": "2022-10-11T07:11:28.640692Z"
    }
   },
   "outputs": [
    {
     "name": "stdout",
     "output_type": "stream",
     "text": [
      "Input bit size : 3\n",
      "Balanced!\n",
      "101\n",
      "Testing oracle!!\n"
     ]
    },
    {
     "data": {
      "image/png": "[encoded data removed]",
      "text/plain": [
       "<Figure size 808.997x325.08 with 1 Axes>"
      ]
     },
     "metadata": {},
     "output_type": "display_data"
    },
    {
     "data": {
      "image/png": "[encoded data removed]",
      "text/plain": [
       "<Figure size 504x360 with 1 Axes>"
      ]
     },
     "metadata": {},
     "output_type": "display_data"
    },
    {
     "name": "stdout",
     "output_type": "stream",
     "text": [
      "{'0101': 1310, '1100': 1220, '1001': 1227, '0110': 1218, '1111': 1203, '1010': 1218, '0000': 1344, '0011': 1260}\n"
     ]
    }
   ],
   "source": [
    "oracle = get_balanced_oracle(3)\n",
    "test_balanced_oracle(3, oracle)"
   ]
  },
  {
   "cell_type": "markdown",
   "id": "4e6c739b",
   "metadata": {},
   "source": [
    "- Half the inputs output 0 and other half output 1!"
   ]
  },
  {
   "cell_type": "code",
   "execution_count": 43,
   "id": "7d0def6e",
   "metadata": {
    "ExecuteTime": {
     "end_time": "2022-10-11T07:08:11.131780Z",
     "start_time": "2022-10-11T07:08:11.126372Z"
    }
   },
   "outputs": [],
   "source": [
    "def oracle_builder(n):\n",
    "    oracle_type = np.random.randint(0,2)\n",
    "    if oracle_type == 0:\n",
    "        return \"constant\", get_constant_oracle(n)\n",
    "    else:\n",
    "        return \"balanced\", get_balanced_oracle(n)"
   ]
  },
  {
   "cell_type": "markdown",
   "id": "7e3f074c",
   "metadata": {},
   "source": [
    "## Step 3 - Create the Deutsch Jozsa Circuit\n",
    "<img src=\"step-3.png\" width=60%>"
   ]
  },
  {
   "cell_type": "code",
   "execution_count": 58,
   "id": "69663183",
   "metadata": {
    "ExecuteTime": {
     "end_time": "2022-10-11T07:17:48.939402Z",
     "start_time": "2022-10-11T07:17:48.934286Z"
    }
   },
   "outputs": [],
   "source": [
    "def build_dj_circuit(N, oracle):\n",
    "    circuit = QuantumCircuit(N + 1, N )\n",
    "    \n",
    "    build_init_state(N ,circuit)\n",
    "    \n",
    "    circuit.barrier()\n",
    "    \n",
    "    #important\n",
    "    circuit.compose(oracle, inplace = True)\n",
    "    circuit.barrier()\n",
    "    circuit.h(range(N))\n",
    "    \n",
    "    # important \n",
    "    circuit.measure(range(N), range(N))\n",
    "    \n",
    "    return circuit "
   ]
  },
  {
   "cell_type": "markdown",
   "id": "ba6a3cc1",
   "metadata": {},
   "source": [
    "#### `compose` method"
   ]
  },
  {
   "cell_type": "code",
   "execution_count": 54,
   "id": "ece3d63e",
   "metadata": {
    "ExecuteTime": {
     "end_time": "2022-10-11T07:15:45.564820Z",
     "start_time": "2022-10-11T07:15:45.554646Z"
    }
   },
   "outputs": [
    {
     "data": {
      "text/html": [
       "<pre style=\"word-wrap: normal;white-space: pre;background: #fff0;line-height: 1.1;font-family: &quot;Courier New&quot;,Courier,monospace\">     ┌───┐\n",
       "q_0: ┤ H ├\n",
       "     ├───┤\n",
       "q_1: ┤ H ├\n",
       "     ├───┤\n",
       "q_2: ┤ H ├\n",
       "     └───┘</pre>"
      ],
      "text/plain": [
       "     ┌───┐\n",
       "q_0: ┤ H ├\n",
       "     ├───┤\n",
       "q_1: ┤ H ├\n",
       "     ├───┤\n",
       "q_2: ┤ H ├\n",
       "     └───┘"
      ]
     },
     "execution_count": 54,
     "metadata": {},
     "output_type": "execute_result"
    }
   ],
   "source": [
    "qc1 = QuantumCircuit(3)\n",
    "qc2 = QuantumCircuit(2)\n",
    "\n",
    "qc1.h(range(3))\n",
    "\n",
    "qc2.x(range(2))\n",
    "qc1.draw()"
   ]
  },
  {
   "cell_type": "code",
   "execution_count": 55,
   "id": "72c428ad",
   "metadata": {
    "ExecuteTime": {
     "end_time": "2022-10-11T07:15:50.896997Z",
     "start_time": "2022-10-11T07:15:50.888978Z"
    }
   },
   "outputs": [
    {
     "data": {
      "text/html": [
       "<pre style=\"word-wrap: normal;white-space: pre;background: #fff0;line-height: 1.1;font-family: &quot;Courier New&quot;,Courier,monospace\">     ┌───┐\n",
       "q_0: ┤ X ├\n",
       "     ├───┤\n",
       "q_1: ┤ X ├\n",
       "     └───┘</pre>"
      ],
      "text/plain": [
       "     ┌───┐\n",
       "q_0: ┤ X ├\n",
       "     ├───┤\n",
       "q_1: ┤ X ├\n",
       "     └───┘"
      ]
     },
     "execution_count": 55,
     "metadata": {},
     "output_type": "execute_result"
    }
   ],
   "source": [
    "qc2.draw()"
   ]
  },
  {
   "cell_type": "code",
   "execution_count": 56,
   "id": "4b494901",
   "metadata": {
    "ExecuteTime": {
     "end_time": "2022-10-11T07:15:54.877634Z",
     "start_time": "2022-10-11T07:15:54.874024Z"
    }
   },
   "outputs": [],
   "source": [
    "qc1.compose(qc2, qubits = [1, 2], inplace = True)"
   ]
  },
  {
   "cell_type": "code",
   "execution_count": 57,
   "id": "41318f67",
   "metadata": {
    "ExecuteTime": {
     "end_time": "2022-10-11T07:16:01.318736Z",
     "start_time": "2022-10-11T07:16:01.309347Z"
    },
    "scrolled": true
   },
   "outputs": [
    {
     "data": {
      "text/html": [
       "<pre style=\"word-wrap: normal;white-space: pre;background: #fff0;line-height: 1.1;font-family: &quot;Courier New&quot;,Courier,monospace\">     ┌───┐     \n",
       "q_0: ┤ H ├─────\n",
       "     ├───┤┌───┐\n",
       "q_1: ┤ H ├┤ X ├\n",
       "     ├───┤├───┤\n",
       "q_2: ┤ H ├┤ X ├\n",
       "     └───┘└───┘</pre>"
      ],
      "text/plain": [
       "     ┌───┐     \n",
       "q_0: ┤ H ├─────\n",
       "     ├───┤┌───┐\n",
       "q_1: ┤ H ├┤ X ├\n",
       "     ├───┤├───┤\n",
       "q_2: ┤ H ├┤ X ├\n",
       "     └───┘└───┘"
      ]
     },
     "execution_count": 57,
     "metadata": {},
     "output_type": "execute_result"
    }
   ],
   "source": [
    "qc1.draw()"
   ]
  },
  {
   "cell_type": "code",
   "execution_count": 62,
   "id": "6c159381",
   "metadata": {
    "ExecuteTime": {
     "end_time": "2022-10-11T07:18:16.288981Z",
     "start_time": "2022-10-11T07:18:16.282403Z"
    }
   },
   "outputs": [
    {
     "name": "stdout",
     "output_type": "stream",
     "text": [
      "Input bit size : 3\n",
      "Balanced!\n",
      "110\n"
     ]
    }
   ],
   "source": [
    "N = 3 \n",
    "type_oracle, dj_oracle = oracle_builder(N)\n",
    "dj_circuit = build_dj_circuit(N, dj_oracle)"
   ]
  },
  {
   "cell_type": "code",
   "execution_count": 63,
   "id": "0d9e12f1",
   "metadata": {
    "ExecuteTime": {
     "end_time": "2022-10-11T07:18:18.154946Z",
     "start_time": "2022-10-11T07:18:17.683934Z"
    }
   },
   "outputs": [
    {
     "data": {
      "image/png": "[encoded data removed]",
      "text/plain": [
       "<Figure size 869.197x325.08 with 1 Axes>"
      ]
     },
     "execution_count": 63,
     "metadata": {},
     "output_type": "execute_result"
    }
   ],
   "source": [
    "dj_circuit.draw('mpl')"
   ]
  },
  {
   "cell_type": "markdown",
   "id": "200279ab",
   "metadata": {},
   "source": [
    "## Step 4 - Run the circuit\n",
    "- As expected, probability of $|0\\rangle ^{\\otimes n}$ should be - \n",
    "    - **1** if $\\mathbf{f}(x)$ is *constant*\n",
    "    - **0** if $\\mathbf{f}(x)$ is *balanced*"
   ]
  },
  {
   "cell_type": "code",
   "execution_count": 64,
   "id": "d213f26d",
   "metadata": {
    "ExecuteTime": {
     "end_time": "2022-10-11T07:19:25.525562Z",
     "start_time": "2022-10-11T07:19:25.303266Z"
    }
   },
   "outputs": [
    {
     "name": "stdout",
     "output_type": "stream",
     "text": [
      "{'111': 100}\n"
     ]
    },
    {
     "data": {
      "image/png": "[encoded data removed]",
      "text/plain": [
       "<Figure size 504x360 with 1 Axes>"
      ]
     },
     "execution_count": 64,
     "metadata": {},
     "output_type": "execute_result"
    }
   ],
   "source": [
    "result = execute(dj_circuit, backend, shots = 100).result()\n",
    "counts = result.get_counts()\n",
    "\n",
    "print(counts)\n",
    "plot_histogram(counts)"
   ]
  },
  {
   "cell_type": "markdown",
   "id": "b74d1da5",
   "metadata": {},
   "source": [
    "## Step 5 - Interpret Results\n",
    "- The following block transforms our theoretical expectation into code!"
   ]
  },
  {
   "cell_type": "code",
   "execution_count": 66,
   "id": "f3aae576",
   "metadata": {
    "ExecuteTime": {
     "end_time": "2022-10-11T07:20:49.612939Z",
     "start_time": "2022-10-11T07:20:49.604699Z"
    }
   },
   "outputs": [
    {
     "data": {
      "text/plain": [
       "{'111': 100}"
      ]
     },
     "execution_count": 66,
     "metadata": {},
     "output_type": "execute_result"
    }
   ],
   "source": [
    "counts"
   ]
  },
  {
   "cell_type": "code",
   "execution_count": 67,
   "id": "1e9a570a",
   "metadata": {
    "ExecuteTime": {
     "end_time": "2022-10-11T07:21:48.114252Z",
     "start_time": "2022-10-11T07:21:48.108373Z"
    }
   },
   "outputs": [
    {
     "name": "stdout",
     "output_type": "stream",
     "text": [
      "000\n",
      "Correct!!\n"
     ]
    }
   ],
   "source": [
    "state = \"0\"*N \n",
    "print(state)\n",
    "if type_oracle == \"balanced\":\n",
    "    # their should be NO presence of the 00..0 state \n",
    "    if state not in counts:\n",
    "        print(\"Correct!!\")\n",
    "    else:\n",
    "        print(\"Wrong!!\")\n",
    "else:\n",
    "    # only 00..0 should exist! \n",
    "    if state in counts and len(counts) == 1:\n",
    "        print(\"Correct!!\")\n",
    "    else:\n",
    "        print(\"Wrong!!\")\n",
    "    "
   ]
  },
  {
   "cell_type": "markdown",
   "id": "455a6a5a",
   "metadata": {},
   "source": [
    "## Stress Test!"
   ]
  },
  {
   "cell_type": "code",
   "execution_count": 68,
   "id": "6d6e812a",
   "metadata": {
    "ExecuteTime": {
     "end_time": "2022-10-11T07:22:13.378160Z",
     "start_time": "2022-10-11T07:22:09.079661Z"
    },
    "collapsed": true
   },
   "outputs": [
    {
     "name": "stdout",
     "output_type": "stream",
     "text": [
      "Input bit size : 8\n",
      "Constant 1!\n",
      "Input bit size : 7\n",
      "Constant 0!\n",
      "Input bit size : 6\n",
      "Balanced!\n",
      "001001\n",
      "Input bit size : 8\n",
      "Constant 1!\n",
      "Input bit size : 6\n",
      "Constant 1!\n",
      "Input bit size : 4\n",
      "Constant 0!\n",
      "Input bit size : 7\n",
      "Constant 1!\n",
      "Input bit size : 7\n",
      "Constant 1!\n",
      "Input bit size : 2\n",
      "Balanced!\n",
      "01\n",
      "Input bit size : 3\n",
      "Balanced!\n",
      "111\n",
      "Input bit size : 3\n",
      "Balanced!\n",
      "001\n",
      "Input bit size : 2\n",
      "Balanced!\n",
      "11\n",
      "Input bit size : 2\n",
      "Balanced!\n",
      "01\n",
      "Input bit size : 6\n",
      "Balanced!\n",
      "001000\n",
      "Input bit size : 6\n",
      "Constant 0!\n",
      "Input bit size : 3\n",
      "Constant 1!\n",
      "Input bit size : 4\n",
      "Balanced!\n",
      "0101\n",
      "Input bit size : 3\n",
      "Constant 0!\n",
      "Input bit size : 8\n",
      "Constant 1!\n",
      "Input bit size : 8\n",
      "Constant 1!\n",
      "Input bit size : 2\n",
      "Constant 0!\n",
      "Input bit size : 9\n",
      "Balanced!\n",
      "001100001\n",
      "Input bit size : 5\n",
      "Balanced!\n",
      "10111\n",
      "Input bit size : 3\n",
      "Constant 0!\n",
      "Input bit size : 5\n",
      "Balanced!\n",
      "00001\n",
      "Input bit size : 5\n",
      "Balanced!\n",
      "00110\n",
      "Input bit size : 4\n",
      "Constant 1!\n",
      "Input bit size : 9\n",
      "Balanced!\n",
      "101010111\n",
      "Input bit size : 5\n",
      "Constant 0!\n",
      "Input bit size : 8\n",
      "Balanced!\n",
      "01010010\n",
      "Input bit size : 4\n",
      "Constant 0!\n",
      "Input bit size : 2\n",
      "Constant 0!\n",
      "Input bit size : 9\n",
      "Constant 1!\n",
      "Input bit size : 2\n",
      "Constant 1!\n",
      "Input bit size : 3\n",
      "Balanced!\n",
      "101\n",
      "Input bit size : 5\n",
      "Balanced!\n",
      "10000\n",
      "Input bit size : 3\n",
      "Constant 0!\n",
      "Input bit size : 7\n",
      "Balanced!\n",
      "1001001\n",
      "Input bit size : 6\n",
      "Balanced!\n",
      "111100\n",
      "Input bit size : 5\n",
      "Balanced!\n",
      "10001\n",
      "Input bit size : 9\n",
      "Balanced!\n",
      "100000000\n",
      "Input bit size : 5\n",
      "Constant 1!\n",
      "Input bit size : 8\n",
      "Balanced!\n",
      "00110010\n",
      "Input bit size : 6\n",
      "Constant 1!\n",
      "Input bit size : 4\n",
      "Constant 0!\n",
      "Input bit size : 9\n",
      "Constant 1!\n",
      "Input bit size : 9\n",
      "Balanced!\n",
      "000100101\n",
      "Input bit size : 2\n",
      "Balanced!\n",
      "11\n",
      "Input bit size : 5\n",
      "Constant 1!\n",
      "Input bit size : 8\n",
      "Constant 0!\n",
      "Input bit size : 2\n",
      "Constant 0!\n",
      "Input bit size : 6\n",
      "Constant 1!\n",
      "Input bit size : 9\n",
      "Balanced!\n",
      "011100111\n",
      "Input bit size : 7\n",
      "Constant 0!\n",
      "Input bit size : 9\n",
      "Balanced!\n",
      "010000010\n",
      "Input bit size : 2\n",
      "Constant 1!\n",
      "Input bit size : 9\n",
      "Balanced!\n",
      "100011100\n",
      "Input bit size : 3\n",
      "Constant 1!\n",
      "Input bit size : 2\n",
      "Balanced!\n",
      "01\n",
      "Input bit size : 8\n",
      "Balanced!\n",
      "00011111\n",
      "Input bit size : 6\n",
      "Balanced!\n",
      "101010\n",
      "Input bit size : 4\n",
      "Balanced!\n",
      "1111\n",
      "Input bit size : 4\n",
      "Constant 1!\n",
      "Input bit size : 6\n",
      "Balanced!\n",
      "010010\n",
      "Input bit size : 9\n",
      "Balanced!\n",
      "100000110\n",
      "Input bit size : 4\n",
      "Constant 0!\n",
      "Input bit size : 4\n",
      "Constant 0!\n",
      "Input bit size : 6\n",
      "Balanced!\n",
      "111011\n",
      "Input bit size : 2\n",
      "Balanced!\n",
      "10\n",
      "Input bit size : 4\n",
      "Constant 0!\n",
      "Input bit size : 3\n",
      "Balanced!\n",
      "101\n",
      "Input bit size : 9\n",
      "Constant 0!\n",
      "Input bit size : 3\n",
      "Balanced!\n",
      "110\n",
      "Input bit size : 9\n",
      "Balanced!\n",
      "101010100\n",
      "Input bit size : 4\n",
      "Balanced!\n",
      "1000\n",
      "Input bit size : 2\n",
      "Balanced!\n",
      "01\n",
      "Input bit size : 7\n",
      "Constant 1!\n",
      "Input bit size : 4\n",
      "Balanced!\n",
      "1000\n",
      "Input bit size : 6\n",
      "Constant 1!\n",
      "Input bit size : 2\n",
      "Balanced!\n",
      "01\n",
      "Input bit size : 5\n",
      "Balanced!\n",
      "10000\n",
      "Input bit size : 2\n",
      "Balanced!\n",
      "10\n",
      "Input bit size : 2\n",
      "Balanced!\n",
      "01\n",
      "Input bit size : 4\n",
      "Balanced!\n",
      "0010\n",
      "Input bit size : 5\n",
      "Balanced!\n",
      "01001\n",
      "Input bit size : 8\n",
      "Balanced!\n",
      "11010111\n",
      "Input bit size : 8\n",
      "Balanced!\n",
      "00111000\n",
      "Input bit size : 4\n",
      "Constant 1!\n",
      "Input bit size : 9\n",
      "Balanced!\n",
      "101110010\n",
      "Input bit size : 2\n",
      "Balanced!\n",
      "11\n",
      "Input bit size : 4\n",
      "Constant 0!\n",
      "Input bit size : 5\n",
      "Constant 1!\n",
      "Input bit size : 7\n",
      "Balanced!\n",
      "0010111\n",
      "Input bit size : 4\n",
      "Balanced!\n",
      "0001\n",
      "Input bit size : 4\n",
      "Constant 0!\n",
      "Input bit size : 5\n",
      "Constant 0!\n",
      "Input bit size : 4\n",
      "Balanced!\n",
      "1100\n",
      "Input bit size : 8\n",
      "Balanced!\n",
      "11111111\n",
      "Input bit size : 7\n",
      "Balanced!\n",
      "0100001\n",
      "Input bit size : 9\n",
      "Balanced!\n",
      "000001000\n",
      "Correct executions : 100\n",
      "Incorrect one : 0\n"
     ]
    }
   ],
   "source": [
    "correct = 0 \n",
    "incorrect = 0 \n",
    "\n",
    "for _ in range(100):\n",
    "    \n",
    "    N = np.random.randint(2, 10)\n",
    "    \n",
    "    \n",
    "    type_oracle, dj_oracle = oracle_builder(N)\n",
    "    dj_circuit = build_dj_circuit(N, dj_oracle)\n",
    "    \n",
    "    # execute \n",
    "    result = execute(dj_circuit, backend, shots = 100).result()\n",
    "    counts = result.get_counts()\n",
    "    \n",
    "    # the expected all 0 state \n",
    "    state = \"0\"*N \n",
    "        \n",
    "    #interpret \n",
    "    if type_oracle == \"balanced\":\n",
    "        # their should be NO presence of the 00..0 state \n",
    "        if state not in counts:\n",
    "            correct += 1\n",
    "        else:\n",
    "            incorrect += 1\n",
    "    else:\n",
    "        # only 00..0 should exist! \n",
    "        if state in counts and len(counts) == 1:\n",
    "            correct += 1\n",
    "        else:\n",
    "            incorrect += 1\n",
    "            \n",
    "print(\"Correct executions :\", correct )\n",
    "print(\"Incorrect one :\", incorrect)"
   ]
  },
  {
   "cell_type": "markdown",
   "id": "57548e2c",
   "metadata": {},
   "source": [
    "## You did it!\n",
    "- We've successfully executed our first quantum algorithm \n",
    "- This will surely help you in realizing how circuits are built using qiskit and how we can use the day - to - day programming constucts like **loops, functions, classes** and much more to build quantum circuits with **Qiskit!**\n",
    "\n",
    "\n"
   ]
  },
  {
   "cell_type": "markdown",
   "id": "6bef8a4e",
   "metadata": {},
   "source": [
    "![](full-diagram.png)"
   ]
  },
  {
   "cell_type": "markdown",
   "id": "3cb996ba",
   "metadata": {},
   "source": [
    "## Run Deutsch-Jozsa on real hardware!"
   ]
  },
  {
   "cell_type": "code",
   "execution_count": 19,
   "id": "c5e4fea8",
   "metadata": {
    "ExecuteTime": {
     "end_time": "2022-10-11T06:07:42.531748Z",
     "start_time": "2022-10-11T06:07:21.793688Z"
    }
   },
   "outputs": [
    {
     "data": {
      "text/plain": [
       "<IBMQBackend('ibmq_quito') from IBMQ(hub='ibm-q', group='open', project='main')>"
      ]
     },
     "execution_count": 19,
     "metadata": {},
     "output_type": "execute_result"
    }
   ],
   "source": [
    "from qiskit import IBMQ\n",
    "from qiskit.providers.ibmq import least_busy\n",
    "\n",
    "# Go to https://quantum-computing.ibm.com/\n",
    "# Register\n",
    "# On your welcome page you should see API token field which you can copy and use during lab\n",
    "\n",
    "try:\n",
    "    provider = IBMQ.load_account()\n",
    "except:\n",
    "    API_KEY = None \n",
    "    IBMQ.save_account(API_KEY)\n",
    "    provider = IBMQ.load_account()\n",
    "    \n",
    "least_busy_device = least_busy(provider.backends(simulator=False, filters=lambda b: b.configuration().n_qubits >= 4))\n",
    "\n",
    "least_busy_device"
   ]
  },
  {
   "cell_type": "code",
   "execution_count": 198,
   "id": "a3c0fe3b",
   "metadata": {
    "ExecuteTime": {
     "end_time": "2022-10-10T17:21:22.839988Z",
     "start_time": "2022-10-10T17:21:16.559644Z"
    }
   },
   "outputs": [
    {
     "name": "stdout",
     "output_type": "stream",
     "text": [
      "Input bit size : 4\n",
      "Balanced!\n"
     ]
    }
   ],
   "source": [
    "N = 4\n",
    "\n",
    "type_oracle, dj_oracle = oracle_builder(N)\n",
    "dj_circuit = build_dj_circuit(N, dj_oracle)\n",
    "job = execute(dj_circuit, backend=least_busy_device, shots=1000)"
   ]
  },
  {
   "cell_type": "code",
   "execution_count": 203,
   "id": "ca62a496",
   "metadata": {
    "ExecuteTime": {
     "end_time": "2022-10-10T17:28:37.505921Z",
     "start_time": "2022-10-10T17:28:36.417113Z"
    }
   },
   "outputs": [
    {
     "data": {
      "text/plain": [
       "<JobStatus.DONE: 'job has successfully run'>"
      ]
     },
     "execution_count": 203,
     "metadata": {},
     "output_type": "execute_result"
    }
   ],
   "source": [
    "job.status()"
   ]
  },
  {
   "cell_type": "code",
   "execution_count": 204,
   "id": "87273f0a",
   "metadata": {
    "ExecuteTime": {
     "end_time": "2022-10-10T17:28:40.113129Z",
     "start_time": "2022-10-10T17:28:40.100367Z"
    }
   },
   "outputs": [
    {
     "data": {
      "text/plain": [
       "<JobStatus.DONE: 'job has successfully run'>"
      ]
     },
     "execution_count": 204,
     "metadata": {},
     "output_type": "execute_result"
    }
   ],
   "source": [
    "job.wait_for_final_state()\n",
    "job.status()"
   ]
  },
  {
   "cell_type": "code",
   "execution_count": 207,
   "id": "379e2ab5",
   "metadata": {
    "ExecuteTime": {
     "end_time": "2022-10-10T17:41:50.091916Z",
     "start_time": "2022-10-10T17:41:49.738672Z"
    }
   },
   "outputs": [
    {
     "name": "stdout",
     "output_type": "stream",
     "text": [
      "Type : balanced\n"
     ]
    },
    {
     "data": {
      "image/png": "[encoded data removed]",
      "text/plain": [
       "<Figure size 504x360 with 1 Axes>"
      ]
     },
     "execution_count": 207,
     "metadata": {},
     "output_type": "execute_result"
    }
   ],
   "source": [
    "counts = job.result().get_counts()\n",
    "\n",
    "state = \"0\"*N \n",
    "print(\"Type :\", type_oracle)\n",
    "\n",
    "plot_histogram(counts)"
   ]
  },
  {
   "cell_type": "markdown",
   "id": "1a326fea",
   "metadata": {},
   "source": [
    "- You can clearly see that the probability of the $|0\\rangle^{\\otimes n}$ state is very very low ~ 0\n",
    "- And our function was **balanced!**\n",
    "- That's what we expected and that is what experiment showed us!"
   ]
  },
  {
   "cell_type": "markdown",
   "id": "e1fe4279",
   "metadata": {},
   "source": [
    "More info, more qubits: https://qiskit.org/textbook/ch-algorithms/deutsch-jozsa.html"
   ]
  }
 ],
 "metadata": {
  "kernelspec": {
   "display_name": "Python 3",
   "language": "python",
   "name": "python3"
  },
  "language_info": {
   "codemirror_mode": {
    "name": "ipython",
    "version": 3
   },
   "file_extension": ".py",
   "mimetype": "text/x-python",
   "name": "python",
   "nbconvert_exporter": "python",
   "pygments_lexer": "ipython3",
   "version": "3.8.10"
  }
 },
 "nbformat": 4,
 "nbformat_minor": 5
}
