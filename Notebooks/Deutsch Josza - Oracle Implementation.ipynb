{
 "cells": [
  {
   "cell_type": "markdown",
   "metadata": {},
   "source": [
    "# The Deutsch-Josza algorithm\n",
    "- The DJ algorithm allows us to determine if the function is constant or balanced with just one check, provided we express the function as an **oracle**.\n",
    "- We know that we want our quantum states to be modified by the application of the function, so that we can figure out if the function is **constant or balanced**. Therefore, we will have to express the **function in the form of an operator**, or a gate. \n",
    "- Also, just like all other quantum operators, the gate we make for the function will have to be reversible. An **oracle** is exactly this reversible gate form of the function we want to check."
   ]
  },
  {
   "cell_type": "code",
   "execution_count": 1,
   "metadata": {
    "ExecuteTime": {
     "end_time": "2022-10-08T16:46:27.402245Z",
     "start_time": "2022-10-08T16:46:27.033286Z"
    }
   },
   "outputs": [],
   "source": [
    "from random import getrandbits\n",
    "from qiskit import *\n",
    "import numpy as np"
   ]
  },
  {
   "cell_type": "markdown",
   "metadata": {},
   "source": [
    "# STEPS\n",
    "\n",
    "Here are the steps of the DJ algorithm for a n-bit function:\n",
    "\n",
    "- Initiate a quantum circuit of n+1 qubits\n",
    "- Apply an X gate to the last qubit ( for a phase kickback )\n",
    "- Apply Hadamard transform to all the qubits\n",
    "- Apply the oracle to the qubits\n",
    "- Apply H gates to all the qubits \n",
    "- Measure 𝑞0. If the probability of the state $|0\\rangle ^{\\otimes n}$ is non-zero, the oracle is constant. If it is 0, the oracle is balanced.\n",
    "\n",
    "Notice that we only invoked the oracle (i.e. applied the function) **only once** in this algorithm."
   ]
  },
  {
   "cell_type": "markdown",
   "metadata": {},
   "source": [
    "### Defining randomized function"
   ]
  },
  {
   "cell_type": "code",
   "execution_count": 25,
   "metadata": {
    "ExecuteTime": {
     "end_time": "2022-10-08T16:50:56.870237Z",
     "start_time": "2022-10-08T16:50:56.853053Z"
    }
   },
   "outputs": [],
   "source": [
    "def get_function(n,out = False):\n",
    "    '''Get the function for the 2^n inputs'''\n",
    "    inputs = 2**(n) \n",
    "    bit = getrandbits(1)\n",
    "    func = []\n",
    "    \n",
    "    # is bit is 0 -> constant \n",
    "    if bit == 0:\n",
    "        if out:\n",
    "            print(\"Constant function selected!\")\n",
    "        one = getrandbits(1)\n",
    "        if one is True:\n",
    "            func = [1 for _ in range(inputs)]\n",
    "        else:\n",
    "            func = [0 for _ in range(inputs)]\n",
    "        func.insert(0,'constant')\n",
    "    # is bit is 1 -> balanced\n",
    "    else:\n",
    "        if(out):\n",
    "            print(\"Balanced function selected!\")\n",
    "        func.append('balanced')\n",
    "        per = np.random.permutation(inputs)\n",
    "        for k in per:\n",
    "            # at even you get 0, at odd you get 1 \n",
    "            # since even number of elements, always equal\n",
    "            # zeroes and ones \n",
    "            func.append(k%2)\n",
    "    \n",
    "    return func"
   ]
  },
  {
   "cell_type": "markdown",
   "metadata": {},
   "source": [
    "### Defining oracle for n bits \n",
    "- Basically just apply an $MCX$ gate whenever f(x) is 1 for an input combination and nothing when it is zero\n"
   ]
  },
  {
   "cell_type": "code",
   "execution_count": 30,
   "metadata": {
    "ExecuteTime": {
     "end_time": "2022-10-08T16:55:42.821025Z",
     "start_time": "2022-10-08T16:55:42.814988Z"
    }
   },
   "outputs": [],
   "source": [
    "def get_oracle(function):\n",
    "    qubits = int(np.log2(len(function)-1))\n",
    "    qc = QuantumCircuit(qubits+1, qubits,name='Oracle')\n",
    "    \n",
    "    # now see what type of function is it\n",
    "    if(function[0] == 'balanced'):\n",
    "        function = function[1:]\n",
    "        \n",
    "        # wherever it is 0, don't do anyhing\n",
    "        for i, k in enumerate(function):\n",
    "            if k == 1:\n",
    "                \n",
    "                # first get the binary representation of i\n",
    "                b = bin(i)[2:]\n",
    "                b = b.zfill(qubits)[:qubits]\n",
    "                \n",
    "                \n",
    "                # apply X gates\n",
    "                qc.barrier()\n",
    "                for j, h in enumerate(b):\n",
    "                    if(h == '1'):    \n",
    "                        qc.x(qubits - j -1)\n",
    "                        \n",
    "                    \n",
    "                # apply mcx pertaining to the fact that \n",
    "                # bit has to be flipped \n",
    "                qc.mcx([i for i in range(qubits)], qubits)\n",
    "                \n",
    "                \n",
    "                # reverse the operation of X application\n",
    "                for j, h in enumerate(b):\n",
    "                    if(h == '1'):\n",
    "                        qc.x(qubits - j - 1)\n",
    "                qc.barrier()\n",
    "            else:\n",
    "                pass\n",
    "    else:\n",
    "        \n",
    "        # get the function\n",
    "        function = function[1:]\n",
    "        if(sum(function) == 0): # nothing to be done\n",
    "            pass\n",
    "        else:                  # all the qubits need to be inverted \n",
    "            qc.x(qubits)\n",
    "    return qc"
   ]
  },
  {
   "cell_type": "markdown",
   "metadata": {},
   "source": [
    "## Basis for correct identification\n",
    "- If the function is balanced, then the **proabability of measuring the state |00...0>** cancels out and we would have atleast one 1 in the measurement of the query register. \n",
    "\n",
    "- If the function is constant, then the **probability of the measuring the state |00...0>** is 100% and thus we would have the state *|00...0>* with a probability of 1."
   ]
  },
  {
   "cell_type": "markdown",
   "metadata": {},
   "source": [
    "## Testing for n = 3 qubits"
   ]
  },
  {
   "cell_type": "code",
   "execution_count": 31,
   "metadata": {
    "ExecuteTime": {
     "end_time": "2022-10-08T16:55:47.656665Z",
     "start_time": "2022-10-08T16:55:47.436399Z"
    }
   },
   "outputs": [
    {
     "name": "stdout",
     "output_type": "stream",
     "text": [
      "Balanced function selected!\n",
      "Function selected : ['balanced', 1, 1, 0, 0, 0, 1, 1, 0]\n"
     ]
    },
    {
     "data": {
      "image/png": "[encoded data removed]",
      "text/plain": [
       "<Figure size 1170.2x325.08 with 1 Axes>"
      ]
     },
     "metadata": {},
     "output_type": "display_data"
    }
   ],
   "source": [
    "func = get_function(3, out = True)\n",
    "oracle = get_oracle(func)\n",
    "print(\"Function selected :\",func)\n",
    "display(oracle.draw('mpl'))"
   ]
  },
  {
   "cell_type": "code",
   "execution_count": 28,
   "metadata": {
    "ExecuteTime": {
     "end_time": "2022-10-08T16:52:53.388424Z",
     "start_time": "2022-10-08T16:52:53.219232Z"
    }
   },
   "outputs": [
    {
     "data": {
      "image/png": "[encoded data removed]",
      "text/plain": [
       "<Figure size 568.197x445.48 with 1 Axes>"
      ]
     },
     "execution_count": 28,
     "metadata": {},
     "output_type": "execute_result"
    }
   ],
   "source": [
    "q = QuantumCircuit(4,3)\n",
    "q.x(3)\n",
    "q.h(range(4))\n",
    "q.append(oracle,q.qubits,q.clbits)\n",
    "q.h(range(4))\n",
    "q.measure(range(3),range(3))\n",
    "q.draw('mpl')"
   ]
  },
  {
   "cell_type": "code",
   "execution_count": 29,
   "metadata": {
    "ExecuteTime": {
     "end_time": "2022-10-08T16:52:57.579199Z",
     "start_time": "2022-10-08T16:52:57.482440Z"
    }
   },
   "outputs": [
    {
     "name": "stdout",
     "output_type": "stream",
     "text": [
      "{'001': 1}\n"
     ]
    },
    {
     "data": {
      "image/png": "[encoded data removed]",
      "text/plain": [
       "<Figure size 504x360 with 1 Axes>"
      ]
     },
     "execution_count": 29,
     "metadata": {},
     "output_type": "execute_result"
    }
   ],
   "source": [
    "backend = Aer.get_backend('qasm_simulator')\n",
    "counts = execute(q,backend = backend,shots=1).result().get_counts()\n",
    "print(counts)\n",
    "from qiskit.tools.visualization import plot_histogram\n",
    "plot_histogram(counts)"
   ]
  },
  {
   "cell_type": "markdown",
   "metadata": {},
   "source": [
    "- This histogram protrays the fact that since **atleast 1 qubit is non-zero in the final query register**,  it shows that the algorithm works and helps us to determine the nature of the function in *a single measurement of the query register*"
   ]
  },
  {
   "cell_type": "markdown",
   "metadata": {
    "heading_collapsed": true
   },
   "source": [
    "## Testing for n = 4 qubits\n"
   ]
  },
  {
   "cell_type": "code",
   "execution_count": 22,
   "metadata": {
    "ExecuteTime": {
     "end_time": "2022-10-08T16:48:57.923019Z",
     "start_time": "2022-10-08T16:48:53.952111Z"
    },
    "hidden": true
   },
   "outputs": [
    {
     "name": "stdout",
     "output_type": "stream",
     "text": [
      "Number of correct identifications : 100\n",
      "Number of incorrect identifications : 0\n"
     ]
    }
   ],
   "source": [
    "correct , incorrect = 0,0 \n",
    "for _ in range(100):\n",
    "    func = get_function(4,False)\n",
    "    oracle = get_oracle(func)\n",
    "    # make the circuit\n",
    "    q = QuantumCircuit(5,4)\n",
    "    q.x(4)\n",
    "    q.h([0,1,2,3,4])\n",
    "    q.append(oracle,q.qubits,q.clbits)\n",
    "    q.h([0,1,2,3,4])\n",
    "    q.measure([0,1,2,3],[0,1,2,3])\n",
    "#     q.draw('mpl')\n",
    "\n",
    "    backend = Aer.get_backend('qasm_simulator')\n",
    "    counts = execute(q,backend = backend,shots=1).result().get_counts()\n",
    "#     print(counts)\n",
    "    total = 0\n",
    "    BIT0 = list(counts.keys())[0]\n",
    "    for k in BIT0:\n",
    "        total+= int(k)\n",
    "        \n",
    "    if(total == 0 and func[0] == 'constant'):\n",
    "        correct +=1\n",
    "    elif(total != 0 and func[0] == 'balanced'):\n",
    "        correct +=1 \n",
    "    else:\n",
    "        incorrect +=1\n",
    "\n",
    "print(\"Number of correct identifications :\",correct)\n",
    "print(\"Number of incorrect identifications :\",incorrect)"
   ]
  },
  {
   "cell_type": "markdown",
   "metadata": {
    "heading_collapsed": true
   },
   "source": [
    "## Testing for n = 5 qubits"
   ]
  },
  {
   "cell_type": "code",
   "execution_count": 23,
   "metadata": {
    "ExecuteTime": {
     "end_time": "2022-10-08T16:49:07.722879Z",
     "start_time": "2022-10-08T16:48:58.241109Z"
    },
    "hidden": true
   },
   "outputs": [
    {
     "name": "stdout",
     "output_type": "stream",
     "text": [
      "Number of correct identifications : 100\n",
      "Number of incorrect identifications : 0\n"
     ]
    }
   ],
   "source": [
    "correct , incorrect = 0,0 \n",
    "for _ in range(100):\n",
    "    func = get_function(5,False)\n",
    "    oracle = get_oracle(func)\n",
    "    # make the circuit\n",
    "    q = QuantumCircuit(6,5)\n",
    "    q.x(5)\n",
    "    q.h([0,1,2,3,4,5])\n",
    "    q.append(oracle,q.qubits,q.clbits)\n",
    "    q.h([0,1,2,3,4,5])\n",
    "    q.measure([0,1,2,3,4],[0,1,2,3,4])\n",
    "#     q.draw('mpl')\n",
    "\n",
    "    backend = Aer.get_backend('qasm_simulator')\n",
    "    counts = execute(q,backend = backend,shots=1).result().get_counts()\n",
    "#     print(counts)\n",
    "    total = 0\n",
    "    BIT0 = list(counts.keys())[0]\n",
    "    for k in BIT0:\n",
    "        total+= int(k)\n",
    "        \n",
    "    if(total == 0 and func[0] == 'constant'):\n",
    "        correct +=1\n",
    "    elif(total != 0 and func[0] == 'balanced'):\n",
    "        correct +=1 \n",
    "    else:\n",
    "        incorrect +=1\n",
    "\n",
    "print(\"Number of correct identifications :\",correct)\n",
    "print(\"Number of incorrect identifications :\",incorrect)"
   ]
  },
  {
   "cell_type": "markdown",
   "metadata": {
    "heading_collapsed": true
   },
   "source": [
    "## Testing for n = 6 qubits"
   ]
  },
  {
   "cell_type": "code",
   "execution_count": 24,
   "metadata": {
    "ExecuteTime": {
     "end_time": "2022-10-08T16:49:35.946290Z",
     "start_time": "2022-10-08T16:49:07.725409Z"
    },
    "hidden": true
   },
   "outputs": [
    {
     "name": "stdout",
     "output_type": "stream",
     "text": [
      "Number of correct identifications : 100\n",
      "Number of incorrect identifications : 0\n"
     ]
    }
   ],
   "source": [
    "correct , incorrect = 0,0 \n",
    "for _ in range(100):\n",
    "    func = get_function(6,False)\n",
    "    oracle = get_oracle(func)\n",
    "    # make the circuit\n",
    "    q = QuantumCircuit(7,6)\n",
    "    q.x(6)\n",
    "    q.h([0,1,2,3,4,5,6])\n",
    "    q.append(oracle,q.qubits,q.clbits)\n",
    "    q.h([0,1,2,3,4,5,6])\n",
    "    q.measure([0,1,2,3,4,5],[0,1,2,3,4,5])\n",
    "#     q.draw('mpl')\n",
    "\n",
    "    backend = Aer.get_backend('qasm_simulator')\n",
    "    counts = execute(q,backend = backend,shots=1).result().get_counts()\n",
    "#     print(counts)\n",
    "    total = 0\n",
    "    BIT0 = list(counts.keys())[0]\n",
    "    \n",
    "    for k in BIT0:\n",
    "        total+= int(k)\n",
    "        \n",
    "    if(total == 0 and func[0] == 'constant'):\n",
    "        correct +=1\n",
    "    elif(total != 0 and func[0] == 'balanced'):\n",
    "        correct +=1 \n",
    "    else:\n",
    "        incorrect +=1\n",
    "\n",
    "print(\"Number of correct identifications :\",correct)\n",
    "print(\"Number of incorrect identifications :\",incorrect)"
   ]
  },
  {
   "cell_type": "code",
   "execution_count": null,
   "metadata": {
    "hidden": true
   },
   "outputs": [],
   "source": []
  }
 ],
 "metadata": {
  "kernelspec": {
   "display_name": "Python 3",
   "language": "python",
   "name": "python3"
  },
  "language_info": {
   "codemirror_mode": {
    "name": "ipython",
    "version": 3
   },
   "file_extension": ".py",
   "mimetype": "text/x-python",
   "name": "python",
   "nbconvert_exporter": "python",
   "pygments_lexer": "ipython3",
   "version": "3.8.10"
  },
  "varInspector": {
   "cols": {
    "lenName": 16,
    "lenType": 16,
    "lenVar": 40
   },
   "kernels_config": {
    "python": {
     "delete_cmd_postfix": "",
     "delete_cmd_prefix": "del ",
     "library": "var_list.py",
     "varRefreshCmd": "print(var_dic_list())"
    },
    "r": {
     "delete_cmd_postfix": ") ",
     "delete_cmd_prefix": "rm(",
     "library": "var_list.r",
     "varRefreshCmd": "cat(var_dic_list()) "
    }
   },
   "types_to_exclude": [
    "module",
    "function",
    "builtin_function_or_method",
    "instance",
    "_Feature"
   ],
   "window_display": false
  }
 },
 "nbformat": 4,
 "nbformat_minor": 2
}
