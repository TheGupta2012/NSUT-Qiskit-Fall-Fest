{
 "cells": [
  {
   "cell_type": "markdown",
   "metadata": {
    "id": "d2ki7yorUp6x"
   },
   "source": [
    "# **The Grover Search Algorithm**\n",
    "***\n"
   ]
  },
  {
   "cell_type": "markdown",
   "metadata": {
    "id": "HI5xE1zNYpVQ"
   },
   "source": [
    "Like the previous algorithms we’ve studied, at the heart of\n",
    "the Grover Algorithm is a Hadamard Transformation. However, this algorithm does not solve a ’blackbox’ problem, making it\n",
    "different from our previous lab sessions. Instead, we will be solving a searching problem, whereby we would like to locate one\n",
    "particular state with a measurement, out of $2^N$ ."
   ]
  },
  {
   "cell_type": "markdown",
   "metadata": {
    "id": "KpzGtOEPYnVQ"
   },
   "source": [
    "Grover's Algorithm is a quantum based algorithm that can locate a value or element in an unsorted set in O($\\sqrt N$) time, as opposed to classical search algorithms, which can find an element only in O($N$) time.\n",
    "\n",
    "Original Publication: [A fast quantum mechanical algorithm for database search](https://arxiv.org/abs/quant-ph/9605043)\n"
   ]
  },
  {
   "cell_type": "markdown",
   "metadata": {
    "id": "HYR5enaeg8Ne"
   },
   "source": [
    "Fun Fact: Lov Grover received his BTech in Electrical Engineering from IIT Delhi in 1981."
   ]
  },
  {
   "cell_type": "markdown",
   "metadata": {
    "id": "ySHYgqeTZrbE"
   },
   "source": [
    "## **Scenario** \n",
    "Imagine you want to look someone up in a directory, which is alphabetically ordered by last name, but you only have their first name. In this scenario, you are stuck going through each entry one at a time, until you eventually happen upon the person you are looking for.\n",
    "Exhaustively searching through the database represents the classical approach, which requires on average N/2 evaluations, which\n",
    "is of the order O($N$). By instead using the Grover Algorithm, we can complete this search (with a high success probability)\n",
    "using only O($\\sqrt N$) evaluations."
   ]
  },
  {
   "cell_type": "markdown",
   "metadata": {
    "id": "bjazm6hHepV8"
   },
   "source": [
    "## **Setting Up the Problem**\n",
    "\n",
    "Our goal is to create a quantum algorithm that will allow us to pick any state we want (within the $2^N$ space), and then attempt to find that state with a single measurement. As we shall see, we will measure our desired state, which we shall refer to as our **’marked state’**, with a high success probability. In addition, larger systems will result in higher success probabilities, a nice feature that is unique to the quantum approach!"
   ]
  },
  {
   "cell_type": "markdown",
   "metadata": {
    "id": "NWoufb99Uvma"
   },
   "source": [
    "## **The Grover's algorithm can be broadly classified into 4 major steps:**\n",
    "\n",
    "1. Initialise the Quantum circuit by creating a superposition of all qubits using Hadamard gate. \n",
    "2. Create an oracle to highlight the state you want to find. This oracle operates by conducting a phase flip, which inverts the amplitude of the state.\n",
    "3. Create an amplification circuit that raises (increases) the amplitude of the marked (highlighted) states while at the same time lowering (decreases) the amplitude of the other states.\n",
    "4. Measurement"
   ]
  },
  {
   "cell_type": "markdown",
   "metadata": {
    "id": "Trpkf-fbU2Iw"
   },
   "source": [
    "### **Step 1: Initialise the Quantum Circuit. Create a superposition of qubits using Hadamard gate**\n",
    "\n",
    "Like the classical search, our quantum algorithm needs to first reflect the problem of having no a priori knowledge of where the marked entry is located. For our quantum algorithm, we can represent this by starting our system in an equal superposition of all states. Thus, the starting point for our code will be to specify the size of our problem, and then create an equal superposition:"
   ]
  },
  {
   "cell_type": "code",
   "execution_count": 1,
   "metadata": {
    "id": "H83cf-_cU5aU"
   },
   "outputs": [],
   "source": [
    "from qiskit import QuantumRegister, ClassicalRegister, QuantumCircuit, execute,IBMQ,Aer\n",
    "import math\n",
    "from qiskit.tools.monitor import job_monitor\n",
    "\n",
    "# IBMQ.enable_account('Enter Token From IBM account')\n",
    "# provider = IBMQ.get_provider(hub='ibm-q')\n",
    "        \n",
    "pi = math.pi\n",
    "q = QuantumRegister(4,'q')\n",
    "c = ClassicalRegister(4,'c')\n",
    "qc = QuantumCircuit(q,c)\n",
    "\n",
    "### Initialisation ###\n",
    "N  = 4 \n",
    "\n",
    "for i in range(N):\n",
    "  qc.h(q[i])\n"
   ]
  },
  {
   "cell_type": "markdown",
   "metadata": {
    "id": "oDUtmfjIjnxy"
   },
   "source": [
    "In the code above, we specify the size of our problem with the parameter N , creating a quantum system of the size $2^N$ . N is the number of qubits we will be using, which means we can create significantly large systems with only a minimal amount of qubits. We prepare our system in an equal superposition of all $2^N$ states by applying a Hadamard gate to each qubit, creating the\n",
    "following initial state:"
   ]
  },
  {
   "cell_type": "markdown",
   "metadata": {
    "id": "4X6SVW2Kj6D9"
   },
   "source": [
    "![image.png](data:image/png;base64,iVBORw0KGgoAAAANSUhEUgAAAZYAAABVCAYAAABq88I4AAAABHNCSVQICAgIfAhkiAAAG59JREFUeJzt3XtYTVkfB/BvF4XThTTJIDSuvV6ZN8ml6DYRD2NG5BZecosilwxJvCreSJHJZVy6zCNNqTQag0ZHTWhUM7mGUph0ka66nzrvH72dx3G6nMvOOer3eZ7+aO2111p7P/uc39l7rbWXHJfL5YIQQghhiLy0G0AIIaRzocBCCCGEURRYCCGEMIoCCyGEEEZRYCGEEMIoCiyEdHHBwcGwsbHBpk2b+NIjIiIwb948ODg4ICcnRzqNI58kCiyEdHFLly7FZ599hh9//BExMTG8dBsbG/Tt2xf+/v4YPHiw9BpIPjkUWAjp4vLz86Gnp4d9+/Zh8+bNqK2tBQA0NDSgV69eUFBQkHILyaeGAgshndTbt28RFBSEAwcOIDIyEnV1dS3mY7PZMDU1xerVq8FiseDn5wcASEtLw7/+9a8Oadu1a9eQnZ3dIWUT6aPAQkgnlJycjP3792PMmDGYN28e2Gw2hg8fjqysLIG89+/fx+jRo6GgoICjR4/C09MTeXl5uHnzJqZMmcJYm54/fw5nZ2ds374dM2bMwL179xgrm8gWOXqlCyGdj4WFBU6cOIFhw4bx0oyMjKCmpobr16/z5d25cye8vLx4/8+fPx89e/ZE37598d///pexNjU0NKCxsRHdunVDjx49cOHCBXz99deMlU9kB92xENIJZWVl4fvvv+dLGz9+PJKTk/nScnNzoa2tzZd26NAhhIeHo6GhgdE2KSgooFu3boyWSWSTorQbQAhhXnJyMnr16sWXlpmZieHDh/P+v3TpEo4cOQIlJSXMmjULQ4YMAQDo6Ohg586d0NfX/6htJp0HPQojpAtISUmBiYkJLl++DAsLC2k3hx6FdXJ0x0JIJ1dQUIClS5ciKiqKkaBSUVGBn3/+GcL8JrWwsBB41EY6PwoshHRi+fn5WLp0KYKCgmBoaMhImRwOB6WlpUIFluY5MaRrocBCSAfhcDhQVJTeRywvLw/btm1DUFAQ+vXrBwDw8PDArl27JCq3d+/ecHBwYKKJpJOiwEIIw96+fYsdO3aguroaISEhUmlDbm4ubG1t8e9//xsJCQngcrmora1FWlqaVNrzvsbGRjQ0NIDD4Ui7KaSDUGAhhCHLli1DZWUlevXqhTNnzmDBggVSa4u5uTmePn2KpKQkvvSVK1dKqUVNfT379+9HQUEBevTogYMHDyIhIQHTp0+HtbW11NpFmEejwghhSFlZGdTV1dHQ0ABFRUUsWLAAoaGh0m4WIR8dTZAkhCHq6urSbgIhMoECCyGEEEZRYCGEEMIoCiyEEEIYRYGFEEIIoyiwEEIIYRQFFkK6mFmzZkFOTu6j/A0dOhSNjY3SPmTykX3yEyQzMzPh7e2NP//8E6qqqrh69Srfmg8RERE4fvw4amtrMWLECBw+fJiGhZIubdWqVbh8+TLv/0WLFuHw4cNC78/lclFfX4/a2lqUl5ejqKgIf//9N+7du4fk5GSkpaXxlkHOyspCbGwsZs2axfhxENklUxMkHz58iMjISJSVlQEAWCwWZsyYASMjozb343A4sLKyApvNxunTp7FixQq+7WfPnkVZWRmcnZ07rO2ENPsUJkg6OTnB39+f9390dDRjr7B/8+YNjh8/joCAABQUFMDCwgJxcXGMlE0+DTIRWBobG+Hv7w85OTnY2dmhd+/eAIB3797h4sWLePnyJbZt24bu3bu3uH9ycjIePnyImJgYPHjwAE+ePIGCggJv+9atW7Fjxw706dPnoxwP6do+hcBSW1uLCRMm4K+//gIAaGhoID09HQMGDGCsjrq6OuzevRve3t64f/8+/vGPfzBWNpFtMtHHcuTIEdy5cwcLFizgBRUAUFFRgY2NDTIzM7F///5W92ez2TA1NYWbmxuysrJw/vx5vu3FxcUUVMhHU15eDqDph5GsUlZWxoULF8BisQA0fUYWLVrE6HLESkpKOHDgAI4cOYKjR48yVi6RfVIPLBkZGairq8OJEyewY8cOFBYW8rZVVlbC0dER+/btw9ChQxEfH99iGZmZmdDV1YWBgQGsra3h6enJ6zAsLS3lC1YfSkpKwt69e5k9qE7GyckJ9+7dk3YzZJ6joyO+/fZbmJiYQF1dHb///jssLCwwd+5chIeHS7t5AkaMGIFjx47x/k9MTMS+ffsYr8fR0RH19fUoLi4Wa3+mPqOd8TruqO8vSc+V2J33T58+RUxMDJSVlaGsrMx7LTeHw8H69euhrKyMhIQEpKSkQElJCcrKymhoaEBNTQ1UVVV5b1mNioqCg4MD1NXV4evri82bN8PLywssFguOjo7Ys2cPdHR0YGdnh927d8PMzIyvHRwOh6+z3s3NDZMmTUJ4eDhsbW2RmJiIKVOmtHocRUVFyM/PF+nYKysr0bNnT8jJyTGaV5z8TGmr3rFjx+LUqVN8X0JE0Pt9Fp+K5cuX4/r167y7fA8PD5ibm7f5mRGHl5cX3r17Bw0NDZH3besz6ufnh2fPnvFWyZw9e3ar5XTG61ic7y9hSHquxL5j0dTUhKGhITIyMrBmzRocOnQIQ4YMwaRJk6CsrAwAGDx4MMaOHYvY2FisXr0a4eHh0NPT4+uMLy4u5o3SUlNTw+HDh+Hq6ooNGzbwgkqzlm7TU1NTMW7cON7/EydOhLm5OTw8PMDlcpGQkAATExNxD5PP4cOHYWdnh4CAAGzYsAEODg68gQaS5BUnP1OEqXf+/PmIiYmh1QA7qRMnTuCLL74A0PQZW7x4Md6+fctoHdra2nyfZaZMnjwZ3bt3x8WLF6GiotJmXrqOhSfpuRL7jkVDQwNTp07ljfbYuHGjwJBCHR0d6Ojo4ODBgwCAvXv3wtjYmC+PvDx/bFNUVERDQwMaGxsFOutbGg/PZrMxb948vjQ3NzeYmZkhKioKJSUlYv1K+pCzszNevHiBixcv8n7Vnzp1ClOnTkVycjIvmIqaV5z8TBG2XhUVFZibmyM6Ohq2trYd0hYiPaqqqrhw4QImTZqE+vp6/P3331ixYgUuXbok7aa1y9DQENeuXYOSkhImTpzYZl66joUn8bniSsjY2JgLgPv48eMWt3M4HK6qqiqXxWJx6+rqBLZ7eXlxKyoquFwul1tZWcldsWIF98WLF9ySkhLusmXLuAUFBby8rq6uAvvb29u32q5Ro0Zxt2zZ0mb7o6OjuWvXrm0zT1paGldeXp579+5dvvSGhgbugAEDuPv27RMrrzj5mSJqvTdv3uRaWVl1SFuIbDh06BAXAO/v6NGj0m4Sl8tt/zNqYWHBNTY2FqqsznYdC/P9JS5JzpVEnffV1dX4448/oK2tjZEjR7aYJy0tDRUVFTA2NubrC2k2c+ZMnDp1ClVVVXBycoK7uzt0dHTQq1cv+Pn5wcXFBYWFhYiKihK42ykqKkJ9fX2L9bq5ueHx48eMPCv+6aefoKqqyvfIDWi62zIxMUFERIRYecXJzxRR6zUxMUF2djZevXrVIe0h0rd582ZMnz6d9/+2bdt4w5FlVV1dHW7duoWpU6cKlZ+uY+FJcq4kmnl/69Yt1NXVCXSov+/mzZsAAFNT0xa3jxkzBrGxsVizZg08PT35nsM2B5dNmzbh888/h5eXF2+bp6cnIiMjUVhYCE9PT7i6uvKVa2VlBQsLC0b6V65duwY1NbUWt/Xt2xehoaHIzc1F//79RcoratlMErVeOTk5LFu2DEFBQdi1axejbSGyQU5ODkFBQdDX10d+fj5qa2uxYMECpKam8oYly5o7d+6gurpa6MDC9HUcGxuLlJQUkfeTl5eHvb09+vXrJ3EbOook50qiOxY2mw2g9aABtB9YgKYJjCNHjkRcXBxfZxGHw0F8fDz69++PnTt38u3j6uqK1NRUvHr1SiCoNIuLi2tzqLGw0tPT0bNnzxa3NZffPDRPlLzi5GeKOPUuXboUQUFB4Ep/Ti3pIFpaWggJCeH1uT158gSOjo5SblXr2Gw2FBUVMWnSJABNoxu9vLzg7e2NtWvX4sWLFwL7MHkda2hoQFtbW6y/1iZ8d6QrV67AxcUFnp6ecHNzg6ura5tzl8Q9VxLdsTQHlpycHJw8ebLFPImJiWCxWAKPXN7XrVs3uLq64s6dO9i9ezc4HA6Apqj+1VdfwdPTU5JmSqSqqgoNDQ2t/mJrnuFfVlYmUl5Ry2aSuPUOHDgQurq6SEhIEPoXYluePHmCjIwMkfeTl5eHpaUlevToIXEbiCBLS0ts374dBw4cAACcO3cOlpaWWLRokZRbJig+Ph7jxo0Di8VCaWkpvvvuO+zduxc///wztm/fDgMDA6xatYpvHyav44kTJ7Y7aEBWREREICwsDGFhYbxBUy4uLjh37hzs7e1b3EfccyV2YKmqquL1r0yePLnFPI8ePUJZWRmmTZsGRcX2q5owYQImTJggbpM6REVFBQC0+uui+ZddeXm5SHlFLZtJktS7YsUKnD17lpHAkpaWhoSEBJH3k5eXh76+focMXyVN9u3bBzabjTt37gAA1q5dCyMjI96wZFlQU1ODO3fuYOPGjSgvL4e7uzv279+P3r1747PPPsO8efMwZ86cFvdl8jr+VLi5ueE///kPL6hkZ2fj4MGDiI6ObnM/cc6V2IHl/f6VmTNntpjnyZMnANBmH4ysU1JSAoBWbwWbX9uhpKQkUl5Ry2aSJPXOmTMHW7duRXl5eat9NMJauHAhFi5cKFEZpGMoKioiNDQUY8eORVlZGSoqKmBnZ4dbt25Ju2k8t2/fRk1NDTQ1NeHv748DBw7w7mK//vrrNl+qydR1XFVVhZKSEpH3k5eXh7a29kedCJ2bmws/Pz9oaGjAxMQEQ4YMQW5uLj7//PM29xPnXIkdWITpXxEmj6xrPpHNj+c+1PzrX11dXaS8opbNJEnqVVZWxtChQ5GRkYHx48cz2q6Pac+ePZ/0q3zc3d2xZ8+eDq1j8ODB+OGHHzB//nwAsvcDsbl/xcfHB6tXr0ZGRga+/PJLofZl6jr29fVt9xd/S+Tl5XHu3Dno6emJXbeoli9fDn9/f95jZBsbG/j5+bW7nzjnqsMCS2NjIxITE6GiogIDAwNxq5E6BQUF9O7dG6WlpS1ub35cpK2tLVJeUctmkiT15uXl4eXLl232mX0K9uzZ0+FfzJ2BhYUFNDU1YWpqCg8PD2k3h098fDyMjIzAZrNx9epVWFlZYeXKlby+obYwdR27urq2OnhI1hw5cgRz585FaGgoYmNjERISgqqqqnanNIhzrsQaFdbcv9KvXz8MHz68xTzp6ekoLS2FsbGxUP0rsmzcuHEoKChocVvz7aGhoaHIecXJzxRx6w0ODoadnZ3AGxPE4e7ujn79+on8p6OjI1anPxFNXV0dvv32W+jq6iI4OPijv7+uLdXV1UhOToapqSkUFRUxc+ZMrFy5Er6+vryRpenp6a3Oc2PyOpZ1JSUlCAsLA4fDwdSpU3HixAm8evUKdnZ2SExMbHd/cc6VWGf11q1bqK+v7/SPwZrNnz8f5eXleP36tcC2rKwsWFpa8oKnKHnFyZ+VlcUbwv1hXlHSRa23WWBgIJYvXy6QLo69e/ciLy9P5L+XL1+2OiGXMGfVqlXIyclBTEyMzI3AS0pKQl1dnUCHsry8PK9v8MyZMy1OygaYvY5lnbOzMxYsWIDMzEy+9ClTpmDs2LHt7i/OuRLrVqL51ql57PiHuFwu7z1DrY0Y+5QsXrwYPj4+CAkJwfbt23npDx48QEZGBkJCQsTKK2p+LpcLY2Nj5OfnIyUlhfeIUdR0cdoJNH2Y+/fvj8GDB4t6Cju1yZMnf/RO7Y7uY/Hw8EB0dDSSkpLQt2/fDqtHXGw2G926deP7flFSUsLAgQMhJyeHgoKCVjulmbyOjx49iitXroi8n4KCAnx8fDBixAiJ29CekpISBAYGYtSoUby0mpoaBAYGwtfXt819xT1XQgeW+vp63ltP09LSoKamBj8/P1y9ehUuLi4wMTHB8+fP4ezsjDdv3uDBgwdQVVXFhg0bMGjQIAQEBDA+e/xj6dGjB6KiomBra4v+/fvjm2++wYMHD+Dg4IDg4GDo6+uLlVfU/HJycrC0tERKSgoGDRokdro47QSalnj+cNnnri4nJwd5eXmora1lfPSetISFhfHmgowePVrazWnRw4cPYW5uzjfJd+XKlQgJCcGFCxdw+/btVteWYfI6XrhwoVhDluXl5T/a0G1vb28cOXIEioqK0NTUREZGBlJTU+Hr69vuY3Zxz5VMLE0sTZcuXcKvv/6K48ePt5u3trYWV65cQUZGBjQ1NTF79mxoaWlJnFec/EwRtt7KykqMHDkST58+lbnHItK0bt066OnpyfTsdFHcvn0b5ubm8PHxgYODg7SbA6Dlz+jr16/Rp08fgTd/v3v3DpmZmRg9enSLj3I723UsyvdXVlYWiouLMWrUqHaXGAAkO1efdq/6R6asrNzqhCtJ8oqTnynC1vvTTz9h1qxZneLDyJS8vDz88ssvOHz4sLSbwojs7GzMmTMHa9eulZmg0prWHnOpqKi02W/Qla/jL774QqS7JEnOVecfEkEYQY/BBB06dAjr16+X6EsqMzMTq1evhqGhIczNzQVGMUVERMDCwgLGxsZYuXJlhy3+VlZWhpkzZ2L8+PHw8fFhvPwHDx7g0aNHjJcrKrqOhSfJuaLAQtr17NkzlJeXf/JzV5hUVFSE8PBwrFu3rtU8NTU17ZYzdOhQBAQEQFVVFWw2W2DQhI2NDRYvXoy5c+fizJkzjE+WBZomytrY2EBZWRmhoaEdMgTXxcUFAwcOZLxcUdB1LDxJzxU9CiPtOnfuHP3K+4Cfnx/s7e2hqqrKl15eXo5du3ahoqICr1+/xqtXr2BsbAwPD49W+8xSU1OxZMkSqKmpwcvLC8uWLeO9CBRoeufejh07OuxYHBwc8OjRI/zxxx9CPXsXlYuLC7S0tATO1cdG17HwJD1XXT6w/POf/+wSk6Qkoa+vD2tra2k3Q2aUlZUhODgY6enpfOlVVVVYuHAh/P39oaurCwB4+fIlvvrqK+jp6SEtLa3FF2c2L6+tr6+PcePG4fz587Czs+NtLy4uRp8+fTrkWA4ePIjz588jISGB8VGbhYWFcHZ2xvnz53nz2sTB1Ge0M17HHfX9JfG5knwBS0K6Fk9PT+53330nkL57927u1atXBdIvX77MBdDqMq/vL69tbW3NHTFiBLehoYHL5XK5JSUl3M2bNzPUcn6RkZFcRUVFbnR0NKPlPnr0iLtz506uuro6FwBXV1eX29jYyGgdRLZ1+TsWQkRRVVWFkydP4u7duwLb4uLi4OPjg5iYGJibm/PSp02bBgUFBcTHx6O2tpZviCyHw+GbHe7m5oZJkyYhPDwctra2SExMZGR57Q+lpKRgyZIlmD17NlRUVPDbb7+JtH99fT1qampQXV2NN2/eIDc3F5mZmfjzzz+RnZ3Nl3f58uUy9ToY0vEosBAigpMnT+Kbb75psb+kZ8+eqKysFBi5paioCDU1NZSUlKCgoIDvcVhqaipfB+nEiRNhbm4ODw8PzJ8/HwkJCYz3r7x69QqzZs1CVVUVIiMjERkZyWj572te3pZ0LRRYCEHTF3xAQADOnDnTap7a2lr4+/u3ujhZREQEMjMzBd7mXVRUhJKSErBYLIGRUc39K+9zc3ODmZkZoqKiUFJSAg0NDTGPqmWXL1/+aCOjhg0bRguydUEUWEiXd+rUKXz//fe4d+8elixZ0uq6I4GBgbCyssKAAQNa3K6urt7iEhGhoaEAgI0bNwo8EsrMzOR19DczNTWFsbExdu3ahRkzZohzSG1at25dm8OkCZEUDYciXdrz58+hr6+Ps2fPAmia9NgSDocDHx8fvhd2CuPNmzfw9PSEgYGBwLodRUVFrb7W3c3NDY8fP+6Q/hVCOhoFFtKl6erqwsjICAYGBjAzM8OVK1danCF+/vx5TJw4EUOGDBGpfHt7e2hqauLq1at8L0z09PTEtGnT8Ntvv8HT01NgPysrK1hYWMDExET0gyJEyrr8SygJafbLL7/wFow6ffo0L72xsRFjxoxBRESESOvA+Pr6IiwsDLGxsR02D4UQWUR3LIT8n7W1NfT09PDjjz8iPz+flx4ZGQk9PT2RgkpYWBhu3LiBGzduUFAhXQ4FFkL+T05ODlu2bEFtbS2OHTvGS9+/fz927twpdDk3btzA5cuXERUVxff4y9vbG4WFhYy2mRBZRIGFkPcsXrwY2traOH78OKqqqhAbG4v+/fsLtYQrAPz111+4ePEiAgMDBdYDSU9P/yhr7LTnypUrMDAw6LCF9+rq6hAWFgZfX1/ExcWhrq6uQ+ohsosCCyHvUVZWhqOjI4qLi3H27Fl4eXkJjOZqTXZ2NmbOnIn79+/D0tISZmZmMDMzw9SpU2FgYICXL192cOuFY21tDXNz8xaHRkuqrq4OM2bMgJaWFhwdHVFfX4/p06ejtLSU8bqI7KLOe0I+UFJSgoEDB0JRURGGhoa4fv26UPtNnjwZt27danX7h4MCpGn8+PGwtbXFli1bGC3X3d0d1dXV8Pb25qVt3boVqqqqcHd3Z7QuIrvojoWQD/Tu3Zu3qNauXbuE3i8pKQlcLrfVP1kJKuXl5UhLSxNrrfb2BAcHY8yYMXxpY8eOxQ8//MB4XUR20cx7QlqwZcsWsFisDvnylbbff/8dLBYLX375Jerq6hAQEICqqioUFhbCz88PQFPwqa6uFqo8FRUVsFgsFBUVIScnB5qamnzbNTQ0kJubi8rKSrBYLMaPh8geCiyEtEBHRwdeXl7SbkaHYLPZMDY2RnFxMfz8/LBt2zacPn0a8fHxvDze3t548uSJUOWZmJjAyckJb9++BQCBQQvN/xcWFoo8wZR8miiwENLF3Lx5E1paWggNDcWePXvQrVs3bNq0CRs2bODl8fDwELnc5vegNTY28qVXVVUBaHotDukaqI+FkC6koqICqampGDBgAOLi4rBhwwZUVFRAUVER3bt3l6hsLS0tyMnJoba2li+9rKwMcnJyMjHUmnwcdMdCSBfS3L9y7NgxyMvLY8yYMQgODsb69euRkpLCe53+gQMHkJWVJVSZRkZGsLe3R69evTBixAi8fv2ab3tpaSlGjRoFdXV1xo+HyCYKLIR0Ic39KwoKCgCaFifr3r07ampqEBERwQssS5cuRUVFhVBlvv/KGicnJyQlJWHNmjW8tLt378LJyYnBoyCyjuaxENKFmJubY+7cuVi/fj0AwM/PD/fu3cOgQYOwevVq9OvXT+I6li1bhmHDhsHa2hq//vornj17hsDAQInLJZ8OCiyEdCHl5eVQU1MTSGOxWLy7GCY8ffoUOTk5GDx4MIYPH85YueTTQIGFEEIIo2hUGCGEEEZRYCGEEMIoCiyEEEIYRYGFEEIIoyiwEEIIYRQFFkIIIYyiwEIIIYRR/wPeVffGjbQcBQAAAABJRU5ErkJggg==)"
   ]
  },
  {
   "cell_type": "markdown",
   "metadata": {
    "id": "Irv0roPtkcBP"
   },
   "source": [
    "Now, let’s do some simulated measurements on this state. These measurements represent the classical approach of picking blindly until we happen on our desired state:"
   ]
  },
  {
   "cell_type": "code",
   "execution_count": 2,
   "metadata": {
    "colab": {
     "base_uri": "https://localhost:8080/"
    },
    "id": "uuXjdm8xkgLk",
    "outputId": "74c39a59-99f7-4d23-f951-e1cac146396c"
   },
   "outputs": [
    {
     "data": {
      "text/plain": [
       "{'0100': 58,\n",
       " '1101': 69,\n",
       " '1000': 62,\n",
       " '0000': 66,\n",
       " '1100': 62,\n",
       " '0101': 68,\n",
       " '0110': 58,\n",
       " '0111': 63,\n",
       " '0011': 68,\n",
       " '1010': 66,\n",
       " '1110': 58,\n",
       " '0001': 66,\n",
       " '1011': 71,\n",
       " '1111': 62,\n",
       " '1001': 67,\n",
       " '0010': 60}"
      ]
     },
     "execution_count": 2,
     "metadata": {},
     "output_type": "execute_result"
    }
   ],
   "source": [
    "qc.measure(q,c)\n",
    "\n",
    "M_simulator = Aer.backends(name='qasm_simulator')[0]\n",
    "\n",
    "\n",
    "job = execute(qc,M_simulator)\n",
    "result = job.result()\n",
    "result.get_counts(qc)"
   ]
  },
  {
   "cell_type": "markdown",
   "metadata": {
    "id": "jz73YWjAlhpe"
   },
   "source": [
    "Take a look at the measurement counts for each state and verify that all states in the system are equally probable (although it’s rare to get a perfectly even distribution). Using a quantum system like this to find a specific state is quite slow, and in fact it’s even worse than the classical analog!\n",
    "\n",
    "The main advantage to a classical search is the ability to ’remember’ past measurements, and remove them from the problem. By doing so, the classical approach will slowly narrow down the pool of possible entries, until eventually finding the desired one. When using a quantum approach, we can’t do this. If we measure the state $|110⟩$, that’s it. Our wavefunction collapses to\n",
    "that state, and we’ve failed our search. And, when we go to prepare the system the next time, we have no way of removing the state $|110⟩$ from the system, which means we could get it again!\n",
    "\n",
    "The difference between the classical and quantum approaches to a search problem are very noteworthy. Since our quantum system has no memory of past measurements, we can only hope to find our desired state with a single attempt. **Thus, the goal of the Grover Algorithm will be to boost our chance of measuring the desired state**."
   ]
  },
  {
   "cell_type": "markdown",
   "metadata": {
    "id": "N6VrDkuzU8Dz"
   },
   "source": [
    "### **Step 2: Create the desired Oracle**\n",
    "\n"
   ]
  },
  {
   "cell_type": "markdown",
   "metadata": {
    "id": "p7JasCVyn49U"
   },
   "source": [
    "Now that we have our equal superposition of $2^N$ states, we can begin to construct our Grover Algorithm.\n",
    "\n",
    "\n",
    "To do this, the first thing we need is an operator $U_w$ , known as an 'oracle'. Simply put, this is an operator that picks out a single state in the system, say $|0101⟩$, and applies an operation. Specifically, this oracle operator $U_w$ isolates a single state such that it is the only state in the system that will then receive the desired operation.\n",
    "\n",
    "By default, control gates only pick out states where all\n",
    "of the control qubits are in the state |1⟩, for example when N=3:"
   ]
  },
  {
   "cell_type": "markdown",
   "metadata": {
    "id": "5vlQ_xM8osZN"
   },
   "source": [
    "![image.png](data:image/png;base64,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)"
   ]
  },
  {
   "cell_type": "markdown",
   "metadata": {
    "id": "KQCkTOyRox6W"
   },
   "source": [
    "For our Grover algorithm, we need our oracle to be able to pick out any state, including states with 0’s on any qubit.\n",
    "\n",
    "In order to make sure that only our marked state is the control-state, we will perform a series of X gates to transform our marked\n",
    "state to the state of all 1’s: $|111...1⟩$. Simultaneously, this transformation will also guarantee that our marked state is the only\n",
    "state in the system of all 1’s. Thus, when we apply our N-qubit control gate operation, its effect will only get applied to our\n",
    "marked state. Then, we will transform all of the states back to the original basis, using the same X gates:"
   ]
  },
  {
   "cell_type": "markdown",
   "metadata": {
    "id": "2N0IfUT_ppzf"
   },
   "source": [
    "Equally as important as the transformation of the marked state, is the effect of this transformation on the rest of the system. For\n",
    "example, consider the effect of the X Transformation when N = 3 and $|001⟩$ is the marked state:"
   ]
  },
  {
   "cell_type": "markdown",
   "metadata": {
    "id": "81yuENBZp1Py"
   },
   "source": [
    "![image.png](data:image/png;base64,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)"
   ]
  },
  {
   "cell_type": "markdown",
   "metadata": {
    "id": "ZyKDcruXp950"
   },
   "source": [
    "No other state in the system gets mapped to $|111⟩$, exactly the result we need. If we consider that our marked state is ’unique’, in that no other state in the system has the same 0’s and 1’s, it makes sense that the transformation to $|111⟩$ is unique as well, mapping all other states elsewhere.\n",
    "\n",
    "The last step is the transformation back to our original basis. For our Grover Algorithm, transforming our marked state to $|11...1⟩$ will allow us to apply a higher order control operation, but afterwards, we must transform back in order to search for the marked state in its original form. Lucky for us, the transformation back to our original basis is just as easy. All we need to do is apply the exact same X gates again."
   ]
  },
  {
   "cell_type": "markdown",
   "metadata": {
    "id": "gpbyKaOTn3ov"
   },
   "source": [
    "The following code contains the oracles for all possible states. All oracles are commented out except for the oracle which marks 0000. \n",
    "\n",
    "As an exercise, just uncomment the oracle you want for the desired state and run the code."
   ]
  },
  {
   "cell_type": "code",
   "execution_count": 3,
   "metadata": {
    "colab": {
     "base_uri": "https://localhost:8080/"
    },
    "id": "qA8IP1soV1ox",
    "outputId": "c52643aa-c71c-4f06-e1c2-c318ae303902"
   },
   "outputs": [
    {
     "name": "stderr",
     "output_type": "stream",
     "text": [
      "C:\\Users\\ANURAG SAHGAL\\AppData\\Local\\Temp\\ipykernel_2864\\1431766398.py:18: DeprecationWarning: The QuantumCircuit.cu1 method is deprecated as of 0.16.0. It will be removed no earlier than 3 months after the release date. You should use the QuantumCircuit.cp method instead, which acts identically.\n",
      "  qc.cu1(pi/4, q[0], q[3])\n",
      "C:\\Users\\ANURAG SAHGAL\\AppData\\Local\\Temp\\ipykernel_2864\\1431766398.py:20: DeprecationWarning: The QuantumCircuit.cu1 method is deprecated as of 0.16.0. It will be removed no earlier than 3 months after the release date. You should use the QuantumCircuit.cp method instead, which acts identically.\n",
      "  qc.cu1(-pi/4, q[1], q[3])\n",
      "C:\\Users\\ANURAG SAHGAL\\AppData\\Local\\Temp\\ipykernel_2864\\1431766398.py:22: DeprecationWarning: The QuantumCircuit.cu1 method is deprecated as of 0.16.0. It will be removed no earlier than 3 months after the release date. You should use the QuantumCircuit.cp method instead, which acts identically.\n",
      "  qc.cu1(pi/4, q[1], q[3])\n",
      "C:\\Users\\ANURAG SAHGAL\\AppData\\Local\\Temp\\ipykernel_2864\\1431766398.py:24: DeprecationWarning: The QuantumCircuit.cu1 method is deprecated as of 0.16.0. It will be removed no earlier than 3 months after the release date. You should use the QuantumCircuit.cp method instead, which acts identically.\n",
      "  qc.cu1(-pi/4, q[2], q[3])\n",
      "C:\\Users\\ANURAG SAHGAL\\AppData\\Local\\Temp\\ipykernel_2864\\1431766398.py:26: DeprecationWarning: The QuantumCircuit.cu1 method is deprecated as of 0.16.0. It will be removed no earlier than 3 months after the release date. You should use the QuantumCircuit.cp method instead, which acts identically.\n",
      "  qc.cu1(pi/4, q[2], q[3])\n",
      "C:\\Users\\ANURAG SAHGAL\\AppData\\Local\\Temp\\ipykernel_2864\\1431766398.py:28: DeprecationWarning: The QuantumCircuit.cu1 method is deprecated as of 0.16.0. It will be removed no earlier than 3 months after the release date. You should use the QuantumCircuit.cp method instead, which acts identically.\n",
      "  qc.cu1(-pi/4, q[2], q[3])\n",
      "C:\\Users\\ANURAG SAHGAL\\AppData\\Local\\Temp\\ipykernel_2864\\1431766398.py:30: DeprecationWarning: The QuantumCircuit.cu1 method is deprecated as of 0.16.0. It will be removed no earlier than 3 months after the release date. You should use the QuantumCircuit.cp method instead, which acts identically.\n",
      "  qc.cu1(pi/4, q[2], q[3])\n"
     ]
    },
    {
     "data": {
      "text/plain": [
       "'\\n###1111 Oracle###\\n\\nqc.cu1(pi/4, q[0], q[3])\\nqc.cx(q[0], q[1])\\nqc.cu1(-pi/4, q[1], q[3])\\nqc.cx(q[0], q[1])\\nqc.cu1(pi/4, q[1], q[3])\\nqc.cx(q[1], q[2])\\nqc.cu1(-pi/4, q[2], q[3])\\nqc.cx(q[0], q[2])\\nqc.cu1(pi/4, q[2], q[3])\\nqc.cx(q[1], q[2])\\nqc.cu1(-pi/4, q[2], q[3])\\nqc.cx(q[0], q[2])\\nqc.cu1(pi/4, q[2], q[3])\\n'"
      ]
     },
     "execution_count": 3,
     "metadata": {},
     "output_type": "execute_result"
    }
   ],
   "source": [
    "q = QuantumRegister(4,'q')\n",
    "c = ClassicalRegister(4,'c')\n",
    "qc = QuantumCircuit(q,c)\n",
    "\n",
    "### Initialisation ###\n",
    "N  = 4 \n",
    "\n",
    "for i in range(N):\n",
    "  qc.h(q[i])\n",
    "\n",
    "### 0000 Oracle ###\n",
    "\n",
    "qc.x(q[0])\n",
    "qc.x(q[1])\n",
    "qc.x(q[2])\n",
    "qc.x(q[3])\n",
    "\n",
    "qc.cu1(pi/4, q[0], q[3])\n",
    "qc.cx(q[0], q[1])\n",
    "qc.cu1(-pi/4, q[1], q[3])\n",
    "qc.cx(q[0], q[1])\n",
    "qc.cu1(pi/4, q[1], q[3])\n",
    "qc.cx(q[1], q[2])\n",
    "qc.cu1(-pi/4, q[2], q[3])\n",
    "qc.cx(q[0], q[2])\n",
    "qc.cu1(pi/4, q[2], q[3])\n",
    "qc.cx(q[1], q[2])\n",
    "qc.cu1(-pi/4, q[2], q[3])\n",
    "qc.cx(q[0], q[2])\n",
    "qc.cu1(pi/4, q[2], q[3])\n",
    "\n",
    "qc.x(q[0])\n",
    "qc.x(q[1])\n",
    "qc.x(q[2])\n",
    "qc.x(q[3])\n",
    "\n",
    "'''\n",
    "### 0001 Oracle ###\n",
    "\n",
    "qc.x(q[1])\n",
    "qc.x(q[2])\n",
    "qc.x(q[3])\n",
    "\n",
    "qc.cu1(pi/4, q[0], q[3])\n",
    "qc.cx(q[0], q[1])\n",
    "qc.cu1(-pi/4, q[1], q[3])\n",
    "qc.cx(q[0], q[1])\n",
    "qc.cu1(pi/4, q[1], q[3])\n",
    "qc.cx(q[1], q[2])\n",
    "qc.cu1(-pi/4, q[2], q[3])\n",
    "qc.cx(q[0], q[2])\n",
    "qc.cu1(pi/4, q[2], q[3])\n",
    "qc.cx(q[1], q[2])\n",
    "qc.cu1(-pi/4, q[2], q[3])\n",
    "qc.cx(q[0], q[2])\n",
    "qc.cu1(pi/4, q[2], q[3])\n",
    "\n",
    "qc.x(q[1])\n",
    "qc.x(q[2])\n",
    "qc.x(q[3])\n",
    "'''\n",
    "\n",
    "'''\n",
    "### 0010 Oracle ###\n",
    "\n",
    "qc.x(q[0])\n",
    "qc.x(q[2])\n",
    "qc.x(q[3])\n",
    "\n",
    "qc.cu1(pi/4, q[0], q[3])\n",
    "qc.cx(q[0], q[1])\n",
    "qc.cu1(-pi/4, q[1], q[3])\n",
    "qc.cx(q[0], q[1])\n",
    "qc.cu1(pi/4, q[1], q[3])\n",
    "qc.cx(q[1], q[2])\n",
    "qc.cu1(-pi/4, q[2], q[3])\n",
    "qc.cx(q[0], q[2])\n",
    "qc.cu1(pi/4, q[2], q[3])\n",
    "qc.cx(q[1], q[2])\n",
    "qc.cu1(-pi/4, q[2], q[3])\n",
    "qc.cx(q[0], q[2])\n",
    "qc.cu1(pi/4, q[2], q[3])\n",
    "\n",
    "qc.x(q[0])\n",
    "qc.x(q[2])\n",
    "qc.x(q[3])\n",
    "'''\n",
    "\n",
    "'''\n",
    "### 0011 Oracle ###\n",
    "\n",
    "qc.x(q[2])\n",
    "qc.x(q[3])\n",
    "\n",
    "qc.cu1(pi/4, q[0], q[3])\n",
    "qc.cx(q[0], q[1])\n",
    "qc.cu1(-pi/4, q[1], q[3])\n",
    "qc.cx(q[0], q[1])\n",
    "qc.cu1(pi/4, q[1], q[3])\n",
    "qc.cx(q[1], q[2])\n",
    "qc.cu1(-pi/4, q[2], q[3])\n",
    "qc.cx(q[0], q[2])\n",
    "qc.cu1(pi/4, q[2], q[3])\n",
    "qc.cx(q[1], q[2])\n",
    "qc.cu1(-pi/4, q[2], q[3])\n",
    "qc.cx(q[0], q[2])\n",
    "qc.cu1(pi/4, q[2], q[3])\n",
    "\n",
    "qc.x(q[2])\n",
    "qc.x(q[3])\n",
    "'''\n",
    "\n",
    "'''\n",
    "### 0100 Oracle ###\n",
    "\n",
    "qc.x(q[0])\n",
    "qc.x(q[1])\n",
    "qc.x(q[3])\n",
    "\n",
    "qc.cu1(pi/4, q[0], q[3])\n",
    "qc.cx(q[0], q[1])\n",
    "qc.cu1(-pi/4, q[1], q[3])\n",
    "qc.cx(q[0], q[1])\n",
    "qc.cu1(pi/4, q[1], q[3])\n",
    "qc.cx(q[1], q[2])\n",
    "qc.cu1(-pi/4, q[2], q[3])\n",
    "qc.cx(q[0], q[2])\n",
    "qc.cu1(pi/4, q[2], q[3])\n",
    "qc.cx(q[1], q[2])\n",
    "qc.cu1(-pi/4, q[2], q[3])\n",
    "qc.cx(q[0], q[2])\n",
    "qc.cu1(pi/4, q[2], q[3])\n",
    "\n",
    "qc.x(q[0])\n",
    "qc.x(q[1])\n",
    "qc.x(q[3])\n",
    "'''\n",
    "\n",
    "'''\n",
    "### 0101 Oracle ###\n",
    "\n",
    "qc.x(q[1])\n",
    "qc.x(q[3])\n",
    "\n",
    "qc.cu1(pi/4, q[0], q[3])\n",
    "qc.cx(q[0], q[1])\n",
    "qc.cu1(-pi/4, q[1], q[3])\n",
    "qc.cx(q[0], q[1])\n",
    "qc.cu1(pi/4, q[1], q[3])\n",
    "qc.cx(q[1], q[2])\n",
    "qc.cu1(-pi/4, q[2], q[3])\n",
    "qc.cx(q[0], q[2])\n",
    "qc.cu1(pi/4, q[2], q[3])\n",
    "qc.cx(q[1], q[2])\n",
    "qc.cu1(-pi/4, q[2], q[3])\n",
    "qc.cx(q[0], q[2])\n",
    "qc.cu1(pi/4, q[2], q[3])\n",
    "\n",
    "qc.x(q[1])\n",
    "qc.x(q[3])\n",
    "'''\n",
    "\n",
    "'''\n",
    "### 0110 Oracle ###\n",
    "\n",
    "qc.x(q[0])\n",
    "qc.x(q[3])\n",
    "\n",
    "qc.cu1(pi/4, q[0], q[3])\n",
    "qc.cx(q[0], q[1])\n",
    "qc.cu1(-pi/4, q[1], q[3])\n",
    "qc.cx(q[0], q[1])\n",
    "qc.cu1(pi/4, q[1], q[3])\n",
    "qc.cx(q[1], q[2])\n",
    "qc.cu1(-pi/4, q[2], q[3])\n",
    "qc.cx(q[0], q[2])\n",
    "qc.cu1(pi/4, q[2], q[3])\n",
    "qc.cx(q[1], q[2])\n",
    "qc.cu1(-pi/4, q[2], q[3])\n",
    "qc.cx(q[0], q[2])\n",
    "qc.cu1(pi/4, q[2], q[3])\n",
    "\n",
    "qc.x(q[0])\n",
    "qc.x(q[3])\n",
    "'''\n",
    "\n",
    "'''\n",
    "### 0111 Oracle ###\n",
    "\n",
    "qc.x(q[3])\n",
    "\n",
    "qc.cu1(pi/4, q[0], q[3])\n",
    "qc.cx(q[0], q[1])\n",
    "qc.cu1(-pi/4, q[1], q[3])\n",
    "qc.cx(q[0], q[1])\n",
    "qc.cu1(pi/4, q[1], q[3])\n",
    "qc.cx(q[1], q[2])\n",
    "qc.cu1(-pi/4, q[2], q[3])\n",
    "qc.cx(q[0], q[2])\n",
    "qc.cu1(pi/4, q[2], q[3])\n",
    "qc.cx(q[1], q[2])\n",
    "qc.cu1(-pi/4, q[2], q[3])\n",
    "qc.cx(q[0], q[2])\n",
    "qc.cu1(pi/4, q[2], q[3])\n",
    "\n",
    "qc.x(q[3])\n",
    "'''\n",
    "\n",
    "'''\n",
    "### 1000 Oracle ###\n",
    "\n",
    "qc.x(q[0])\n",
    "qc.x(q[1])\n",
    "qc.x(q[2])\n",
    "\n",
    "qc.cu1(pi/4, q[0], q[3])\n",
    "qc.cx(q[0], q[1])\n",
    "qc.cu1(-pi/4, q[1], q[3])\n",
    "qc.cx(q[0], q[1])\n",
    "qc.cu1(pi/4, q[1], q[3])\n",
    "qc.cx(q[1], q[2])\n",
    "qc.cu1(-pi/4, q[2], q[3])\n",
    "qc.cx(q[0], q[2])\n",
    "qc.cu1(pi/4, q[2], q[3])\n",
    "qc.cx(q[1], q[2])\n",
    "qc.cu1(-pi/4, q[2], q[3])\n",
    "qc.cx(q[0], q[2])\n",
    "qc.cu1(pi/4, q[2], q[3])\n",
    "\n",
    "qc.x(q[0])\n",
    "qc.x(q[1])\n",
    "qc.x(q[2])\n",
    "'''\n",
    "\n",
    "'''\n",
    "### 1001 Oracle ###\n",
    "\n",
    "qc.x(q[1])\n",
    "qc.x(q[2])\n",
    "\n",
    "qc.cu1(pi/4, q[0], q[3])\n",
    "qc.cx(q[0], q[1])\n",
    "qc.cu1(-pi/4, q[1], q[3])\n",
    "qc.cx(q[0], q[1])\n",
    "qc.cu1(pi/4, q[1], q[3])\n",
    "qc.cx(q[1], q[2])\n",
    "qc.cu1(-pi/4, q[2], q[3])\n",
    "qc.cx(q[0], q[2])\n",
    "qc.cu1(pi/4, q[2], q[3])\n",
    "qc.cx(q[1], q[2])\n",
    "qc.cu1(-pi/4, q[2], q[3])\n",
    "qc.cx(q[0], q[2])\n",
    "qc.cu1(pi/4, q[2], q[3])\n",
    "\n",
    "qc.x(q[1])\n",
    "qc.x(q[2])\n",
    "'''\n",
    "\n",
    "'''\n",
    "### 1010 Oracle ###\n",
    "\n",
    "qc.x(q[0])\n",
    "qc.x(q[2])\n",
    "\n",
    "qc.cu1(pi/4, q[0], q[3])\n",
    "qc.cx(q[0], q[1])\n",
    "qc.cu1(-pi/4, q[1], q[3])\n",
    "qc.cx(q[0], q[1])\n",
    "qc.cu1(pi/4, q[1], q[3])\n",
    "qc.cx(q[1], q[2])\n",
    "qc.cu1(-pi/4, q[2], q[3])\n",
    "qc.cx(q[0], q[2])\n",
    "qc.cu1(pi/4, q[2], q[3])\n",
    "qc.cx(q[1], q[2])\n",
    "qc.cu1(-pi/4, q[2], q[3])\n",
    "qc.cx(q[0], q[2])\n",
    "qc.cu1(pi/4, q[2], q[3])\n",
    "\n",
    "qc.x(q[0])\n",
    "qc.x(q[2])\n",
    "'''\n",
    "\n",
    "'''\n",
    "### 1011 Oracle ###\n",
    "\n",
    "qc.x(q[3])\n",
    "\n",
    "qc.cu1(pi/4, q[0], q[3])\n",
    "qc.cx(q[0], q[1])\n",
    "qc.cu1(-pi/4, q[1], q[3])\n",
    "qc.cx(q[0], q[1])\n",
    "qc.cu1(pi/4, q[1], q[3])\n",
    "qc.cx(q[1], q[2])\n",
    "qc.cu1(-pi/4, q[2], q[3])\n",
    "qc.cx(q[0], q[2])\n",
    "qc.cu1(pi/4, q[2], q[3])\n",
    "qc.cx(q[1], q[2])\n",
    "qc.cu1(-pi/4, q[2], q[3])\n",
    "qc.cx(q[0], q[2])\n",
    "qc.cu1(pi/4, q[2], q[3])\n",
    "\n",
    "qc.x(q[3])\n",
    "'''\n",
    "\n",
    "'''\n",
    "### 1100 Oracle ###\n",
    "\n",
    "qc.x(q[0])\n",
    "qc.x(q[1])\n",
    "\n",
    "qc.cu1(pi/4, q[0], q[3])\n",
    "qc.cx(q[0], q[1])\n",
    "qc.cu1(-pi/4, q[1], q[3])\n",
    "qc.cx(q[0], q[1])\n",
    "qc.cu1(pi/4, q[1], q[3])\n",
    "qc.cx(q[1], q[2])\n",
    "qc.cu1(-pi/4, q[2], q[3])\n",
    "qc.cx(q[0], q[2])\n",
    "qc.cu1(pi/4, q[2], q[3])\n",
    "qc.cx(q[1], q[2])\n",
    "qc.cu1(-pi/4, q[2], q[3])\n",
    "qc.cx(q[0], q[2])\n",
    "qc.cu1(pi/4, q[2], q[3])\n",
    "\n",
    "qc.x(q[0])\n",
    "qc.x(q[1])\n",
    "'''\n",
    "\n",
    "'''\n",
    "### 1101 Oracle ###\n",
    "\n",
    "qc.x(q[1])\n",
    "\n",
    "qc.cu1(pi/4, q[0], q[3])\n",
    "qc.cx(q[0], q[1])\n",
    "qc.cu1(-pi/4, q[1], q[3])\n",
    "qc.cx(q[0], q[1])\n",
    "qc.cu1(pi/4, q[1], q[3])\n",
    "qc.cx(q[1], q[2])\n",
    "qc.cu1(-pi/4, q[2], q[3])\n",
    "qc.cx(q[0], q[2])\n",
    "qc.cu1(pi/4, q[2], q[3])\n",
    "qc.cx(q[1], q[2])\n",
    "qc.cu1(-pi/4, q[2], q[3])\n",
    "qc.cx(q[0], q[2])\n",
    "qc.cu1(pi/4, q[2], q[3])\n",
    "\n",
    "qc.x(q[1])\n",
    "'''\n",
    "\n",
    "'''\n",
    "### 1110 Oracle ###\n",
    "\n",
    "qc.x(q[0])\n",
    "\n",
    "qc.cu1(pi/4, q[0], q[3])\n",
    "qc.cx(q[0], q[1])\n",
    "qc.cu1(-pi/4, q[1], q[3])\n",
    "qc.cx(q[0], q[1])\n",
    "qc.cu1(pi/4, q[1], q[3])\n",
    "qc.cx(q[1], q[2])\n",
    "qc.cu1(-pi/4, q[2], q[3])\n",
    "qc.cx(q[0], q[2])\n",
    "qc.cu1(pi/4, q[2], q[3])\n",
    "qc.cx(q[1], q[2])\n",
    "qc.cu1(-pi/4, q[2], q[3])\n",
    "qc.cx(q[0], q[2])\n",
    "qc.cu1(pi/4, q[2], q[3])\n",
    "\n",
    "qc.x(q[0])\n",
    "'''\n",
    "\n",
    "'''\n",
    "###1111 Oracle###\n",
    "\n",
    "qc.cu1(pi/4, q[0], q[3])\n",
    "qc.cx(q[0], q[1])\n",
    "qc.cu1(-pi/4, q[1], q[3])\n",
    "qc.cx(q[0], q[1])\n",
    "qc.cu1(pi/4, q[1], q[3])\n",
    "qc.cx(q[1], q[2])\n",
    "qc.cu1(-pi/4, q[2], q[3])\n",
    "qc.cx(q[0], q[2])\n",
    "qc.cu1(pi/4, q[2], q[3])\n",
    "qc.cx(q[1], q[2])\n",
    "qc.cu1(-pi/4, q[2], q[3])\n",
    "qc.cx(q[0], q[2])\n",
    "qc.cu1(pi/4, q[2], q[3])\n",
    "'''"
   ]
  },
  {
   "cell_type": "markdown",
   "metadata": {
    "id": "5u3sIzOgsG0q"
   },
   "source": [
    "**Sign Flip on $|111...1⟩$ (The Oracle Function)**"
   ]
  },
  {
   "cell_type": "markdown",
   "metadata": {
    "id": "y5A-bJtvHxoN"
   },
   "source": [
    "The Oracle circuit inverts the state's amplitude, making it -1/4. This is accomplished by first applying a Pauli X gate to specific qubits (depending on the state you wish to mark).\n",
    "\n",
    "Then, you use a triple-controlled Z gate to Qubit 3.\n",
    "\n",
    "The Pauli X gate is then applied to the same qubits to which the gates were previously applied."
   ]
  },
  {
   "cell_type": "markdown",
   "metadata": {
    "id": "Mun0BCfqV-Uj"
   },
   "source": [
    "### **Step 3: Create the Amplification circuit**"
   ]
  },
  {
   "cell_type": "markdown",
   "metadata": {
    "id": "Jp_S43rKB0Tk"
   },
   "source": [
    "**$U_s$ - Grover Diffusion Operator**\n",
    "\n",
    "The operator that is going to achieve this reflection about the average will be $U_s$ , often referred to as the Grover Diffusion Operator. We will start by writing out the effect of the operation we want:"
   ]
  },
  {
   "cell_type": "markdown",
   "metadata": {
    "id": "ehnwVg1_CZNg"
   },
   "source": [
    "![image.png](data:image/png;base64,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)"
   ]
  },
  {
   "cell_type": "markdown",
   "metadata": {
    "id": "c6eKa8_WCfbn"
   },
   "source": [
    "where $|ψ⟩$ is the state of our system, and $|r⟩$ represents an equal superposition of all states, where each state has an amplitude of\n",
    "$\\alpha_{avg}$ :"
   ]
  },
  {
   "cell_type": "markdown",
   "metadata": {
    "id": "0wDZcGW5Cxmg"
   },
   "source": [
    "![image.png](data:image/png;base64,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)"
   ]
  },
  {
   "cell_type": "markdown",
   "metadata": {
    "id": "dmXK635oC3Az"
   },
   "source": [
    "This state $|r⟩$ is most definitely not normalized, meaning we can’t physically create it, but represents what we want to happen as a result from our operation. Specifically, the operation $|\\psi⟩$ − 2($|\\psi⟩ − |r⟩$) is written this way in order to understand its two components:\n",
    "1. take the difference in amplitudes between each state and the average:$|\\psi⟩ − |r⟩$\n",
    "2. double each of these differences, and subtract them from the initial amplitudes: $|\\psi⟩$ − 2(· · ·).\n",
    "\n",
    "For example, suppose we have a system where the amplitude for the state $|01⟩$ is $α_{0000}$ = 0.7, and the average amplitude for the whole system is $α_{avg}$ = 0.45. We want the effect of our operation to do the following:\n",
    "\n",
    "\n",
    "\n",
    "$$U_s|0000⟩ → (0.7 − 2 ( 0.7 − .45 ))|0000⟩ = ( 0.2 )|0000⟩$$"
   ]
  },
  {
   "cell_type": "markdown",
   "metadata": {
    "id": "lipBIrrZE5O9"
   },
   "source": [
    "Hopefully this example illustrates what we are going for. We want an operation that uses the difference between each state and the average ($\\alpha_i$ − $\\alpha_{avg}$),  and subtracts double this amount from the initial amplitude.\n",
    "\n",
    "If ($\\alpha_i$ − $\\alpha_{avg}$) is positive, then the final amplitude will be smaller, possibly even negative. Conversely, if ($\\alpha_i$ − $\\alpha_{avg}$) is negative, then the final amplitude will be larger, which we shall see happens to our marked state.\n",
    "\n",
    "Now then, let’s see how we can construct this $U_s$ operator. First off, let’s do a little rewriting:\n",
    "\n"
   ]
  },
  {
   "cell_type": "markdown",
   "metadata": {
    "id": "4uWSIrsqGcSW"
   },
   "source": [
    "![image.png](data:image/png;base64,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)"
   ]
  },
  {
   "cell_type": "markdown",
   "metadata": {
    "id": "kdDpAbEwGhol"
   },
   "source": [
    "The second part of this operation should stand out to you, it’s just the Identity operator I. Thus, our unitary operator will have the following form:"
   ]
  },
  {
   "cell_type": "markdown",
   "metadata": {
    "id": "H3sub9laG7Zu"
   },
   "source": [
    "![image.png](data:image/png;base64,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)"
   ]
  },
  {
   "cell_type": "markdown",
   "metadata": {
    "id": "RSqcym25G9Mj"
   },
   "source": [
    "This something, is a operation that when applied to a state $|ψ⟩$, results in the state 2$|r⟩$. As mentioned before, $|r⟩$ is a state that is not guaranteed to be normalized, thus we cannot physically create it. However, the combination of 2$|r⟩$ − $|ψ⟩$ will be normalized.\n",
    "\n",
    "The matrix operation that creates the state $|r⟩$ is as follows:"
   ]
  },
  {
   "cell_type": "markdown",
   "metadata": {
    "id": "dn2wGJ7YHg7p"
   },
   "source": [
    "![image.png](data:image/png;base64,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)"
   ]
  },
  {
   "cell_type": "markdown",
   "metadata": {
    "id": "4g7bzSuJHmr7"
   },
   "source": [
    "Thus, we can create $|r⟩$ by using the state $|s⟩$, which is definitely a physically realizable state (Hadamard gates on every qubit). However, $|s⟩⟨s|$ is not a unitary operator (if it were, it would mean that we could physically create $|r⟩$. Let’s quickly show how these two quantities are equal:\n",
    "1. The inner product $⟨s|ψ⟩$ results in the following sum of all the amplitudes: $\\frac{1}{\\sqrt{N}} \\sum^{N}_{i} \\alpha_i$\n",
    "2. We borrow the remaining $\\frac{1}{\\sqrt{N}}$ term from the other $|s⟩$ state, giving us our average amplitude: $\\frac{1}{N} \\sum^{N}_{i} \\alpha_i = \\alpha_{avg}$.\n",
    "3. This average amplitude $α_{avg}$ is left multiplying all of the states leftover from $|s⟩$, leaving us with:\n",
    "$$|s⟩⟨s| = α_{avg}|0000⟩ + α_{avg}|0001⟩ + .... = |r⟩$$\n",
    "\n",
    "Thus, we now have a full mathematical description for $U_s$: \n",
    "$$U_s = 2|s⟩⟨s| - I $$"
   ]
  },
  {
   "cell_type": "markdown",
   "metadata": {
    "id": "zxQRGBkcKgQ-"
   },
   "source": [
    "**Implementing $U_s$ via $H^N$**\n",
    "\n",
    "Although we just derived a nice compact form for our Grover Diffusion Operator, implementing it into our quantum algorithm is a tad bit more challenging. As we pointed out, the operator as a whole is unitary, but the individual contributions are physically unrealizable. But fear not, there is an impressively simple way of realizing $U_s$ , using a Hadamard Transformation (our favorite).\n",
    "\n",
    "To start, we must take a slight detour from our algorithm in order to talk about a very important property of the Hadamard Transformation, particularly how it transforms the state of all 0’s:\n",
    "\n",
    "$$H^2|0000⟩ = |s⟩$$\n",
    "\n",
    "Nothing new here, but we want to take special note of how the Hadamard Transformation is a map between the state of all 0’s, and the equal superposition state $|s⟩$:\n",
    "\n",
    "$$H^2|s⟩ = |0000⟩$$\n",
    "\n",
    "We just saw in our previous discussion that the state $|s⟩$ was exactly what we needed to create $U_s$ , and it’s no coincidence that we are seeing it again here via the Hadamard Transformation. This $H^N$ mapping is what is going to allow us to implement the Grover Diffusion Operator.\n",
    "\n",
    "Although we’ve seen the Hadamard Transformation at the core of all our previous algorithms, this implementation is a bit different. Previously, we used $H^N$ as a way of simultaneously sampling all possible entries for our blackbox problems. Here, we are using $H^N$ in order to transform our system to a basis where the Grover Diffusion Operator is achievable in one simple operation, and then transforming back.\n",
    "\n",
    "Consider this somewhat silly example: Imagine you need to lift a 1 ton brick onto a shelf under Earth’s gravity, so you transform your problem to the moon where gravity is weaker, do the lift, and then transform back to Earth. That’s the spirit of what we’re going to achieve with this Hadamard Transformation here in the Grover Algorithm."
   ]
  },
  {
   "cell_type": "code",
   "execution_count": 4,
   "metadata": {
    "colab": {
     "base_uri": "https://localhost:8080/"
    },
    "id": "A4FVpSrtV_QC",
    "outputId": "c0254915-e4ac-4406-c29b-6b2ff4878001"
   },
   "outputs": [
    {
     "name": "stderr",
     "output_type": "stream",
     "text": [
      "C:\\Users\\ANURAG SAHGAL\\AppData\\Local\\Temp\\ipykernel_2864\\72152198.py:12: DeprecationWarning: The QuantumCircuit.cu1 method is deprecated as of 0.16.0. It will be removed no earlier than 3 months after the release date. You should use the QuantumCircuit.cp method instead, which acts identically.\n",
      "  qc.cu1(pi/4, q[0], q[3])\n",
      "C:\\Users\\ANURAG SAHGAL\\AppData\\Local\\Temp\\ipykernel_2864\\72152198.py:14: DeprecationWarning: The QuantumCircuit.cu1 method is deprecated as of 0.16.0. It will be removed no earlier than 3 months after the release date. You should use the QuantumCircuit.cp method instead, which acts identically.\n",
      "  qc.cu1(-pi/4, q[1], q[3])\n",
      "C:\\Users\\ANURAG SAHGAL\\AppData\\Local\\Temp\\ipykernel_2864\\72152198.py:16: DeprecationWarning: The QuantumCircuit.cu1 method is deprecated as of 0.16.0. It will be removed no earlier than 3 months after the release date. You should use the QuantumCircuit.cp method instead, which acts identically.\n",
      "  qc.cu1(pi/4, q[1], q[3])\n",
      "C:\\Users\\ANURAG SAHGAL\\AppData\\Local\\Temp\\ipykernel_2864\\72152198.py:18: DeprecationWarning: The QuantumCircuit.cu1 method is deprecated as of 0.16.0. It will be removed no earlier than 3 months after the release date. You should use the QuantumCircuit.cp method instead, which acts identically.\n",
      "  qc.cu1(-pi/4, q[2], q[3])\n",
      "C:\\Users\\ANURAG SAHGAL\\AppData\\Local\\Temp\\ipykernel_2864\\72152198.py:20: DeprecationWarning: The QuantumCircuit.cu1 method is deprecated as of 0.16.0. It will be removed no earlier than 3 months after the release date. You should use the QuantumCircuit.cp method instead, which acts identically.\n",
      "  qc.cu1(pi/4, q[2], q[3])\n",
      "C:\\Users\\ANURAG SAHGAL\\AppData\\Local\\Temp\\ipykernel_2864\\72152198.py:23: DeprecationWarning: The QuantumCircuit.cu1 method is deprecated as of 0.16.0. It will be removed no earlier than 3 months after the release date. You should use the QuantumCircuit.cp method instead, which acts identically.\n",
      "  qc.cu1(-pi/4, q[2], q[3])\n",
      "C:\\Users\\ANURAG SAHGAL\\AppData\\Local\\Temp\\ipykernel_2864\\72152198.py:25: DeprecationWarning: The QuantumCircuit.cu1 method is deprecated as of 0.16.0. It will be removed no earlier than 3 months after the release date. You should use the QuantumCircuit.cp method instead, which acts identically.\n",
      "  qc.cu1(pi/4, q[2], q[3])\n"
     ]
    },
    {
     "data": {
      "text/plain": [
       "<qiskit.circuit.instructionset.InstructionSet at 0x2b47dde41f0>"
      ]
     },
     "execution_count": 4,
     "metadata": {},
     "output_type": "execute_result"
    }
   ],
   "source": [
    "#### Amplification ####\n",
    "\n",
    "qc.h(q[0])\n",
    "qc.h(q[1])\n",
    "qc.h(q[2])\n",
    "qc.h(q[3])\n",
    "qc.x(q[0])\n",
    "qc.x(q[1])\n",
    "qc.x(q[2])\n",
    "qc.x(q[3])\n",
    "\n",
    "qc.cu1(pi/4, q[0], q[3])\n",
    "qc.cx(q[0], q[1])\n",
    "qc.cu1(-pi/4, q[1], q[3])\n",
    "qc.cx(q[0], q[1])\n",
    "qc.cu1(pi/4, q[1], q[3])\n",
    "qc.cx(q[1], q[2])\n",
    "qc.cu1(-pi/4, q[2], q[3])\n",
    "qc.cx(q[0], q[2])\n",
    "qc.cu1(pi/4, q[2], q[3])\n",
    "qc.cx(q[1], q[2])\n",
    "\n",
    "qc.cu1(-pi/4, q[2], q[3])\n",
    "qc.cx(q[0], q[2])\n",
    "qc.cu1(pi/4, q[2], q[3])\n",
    "\n",
    "qc.x(q[0])\n",
    "qc.x(q[1])\n",
    "qc.x(q[2])\n",
    "qc.x(q[3])\n",
    "qc.h(q[0])\n",
    "qc.h(q[1])\n",
    "qc.h(q[2])\n",
    "qc.h(q[3])"
   ]
  },
  {
   "cell_type": "markdown",
   "metadata": {
    "id": "WoIbgiFwWCb_"
   },
   "source": [
    "### **Step 4: Measurement**"
   ]
  },
  {
   "cell_type": "code",
   "execution_count": 5,
   "metadata": {
    "colab": {
     "base_uri": "https://localhost:8080/"
    },
    "id": "lnF42vVFWB4O",
    "outputId": "2cef1270-00ed-4eab-e451-be9b6d40ca20"
   },
   "outputs": [
    {
     "name": "stdout",
     "output_type": "stream",
     "text": [
      "\n",
      "Executing job....\n",
      "\n",
      "Job Status: job has successfully run\n",
      "RESULT:  {'1000': 2, '0000': 46, '1001': 8, '1010': 5, '0100': 6, '0010': 6, '0110': 2, '1111': 4, '1100': 3, '0111': 3, '1101': 2, '1110': 3, '0101': 1, '1011': 4, '0001': 3, '0011': 2} \n",
      "\n"
     ]
    }
   ],
   "source": [
    "### Measurment ###\n",
    "qc.barrier(q)\n",
    "qc.measure(q[0], c[0])\n",
    "qc.measure(q[1], c[1])\n",
    "qc.measure(q[2], c[2])\n",
    "qc.measure(q[3], c[3])\n",
    "\n",
    "# backend = provider.get_backend('ibmq_qasm_simulator')\n",
    "backend = Aer.backends(name='qasm_simulator')[0]\n",
    "print('\\nExecuting job....\\n')\n",
    "job = execute(qc, backend, shots=100)\n",
    "\n",
    "job_monitor(job)\n",
    "counts = job.result().get_counts()\n",
    "\n",
    "print('RESULT: ',counts,'\\n')"
   ]
  },
  {
   "cell_type": "markdown",
   "metadata": {
    "id": "zT_OGTb2MzIQ"
   },
   "source": [
    "And viola! Like magic, we’ve increased the probability of our marked state, while suppressing all other states. Feel free to change the marked state in the example above, and see that the Grover Algorithm always makes our marked state dominant."
   ]
  }
 ],
 "metadata": {
  "colab": {
   "provenance": []
  },
  "kernelspec": {
   "display_name": "Python 3",
   "language": "python",
   "name": "python3"
  },
  "language_info": {
   "codemirror_mode": {
    "name": "ipython",
    "version": 3
   },
   "file_extension": ".py",
   "mimetype": "text/x-python",
   "name": "python",
   "nbconvert_exporter": "python",
   "pygments_lexer": "ipython3",
   "version": "3.8.10"
  }
 },
 "nbformat": 4,
 "nbformat_minor": 1
}
