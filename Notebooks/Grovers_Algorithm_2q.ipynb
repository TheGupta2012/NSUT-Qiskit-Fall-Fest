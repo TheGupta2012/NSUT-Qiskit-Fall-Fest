{
 "cells": [
  {
   "cell_type": "code",
   "execution_count": 1,
   "metadata": {
    "id": "kLt6Q_8TnpIy"
   },
   "outputs": [],
   "source": [
    "from qiskit import QuantumRegister, ClassicalRegister, QuantumCircuit, execute,IBMQ,Aer\n",
    "import math\n",
    "from qiskit.tools.monitor import job_monitor\n",
    "\n",
    "# IBMQ.enable_account('Enter Token From IBM account')\n",
    "# provider = IBMQ.get_provider(hub='ibm-q')\n",
    "        \n",
    "pi = math.pi\n",
    "q = QuantumRegister(2,'q')\n",
    "c = ClassicalRegister(2,'c')\n",
    "qc = QuantumCircuit(q,c)\n",
    "\n",
    "### Initialisation ###\n",
    "N  = 2\n",
    "\n",
    "for i in range(N):\n",
    "  qc.h(q[i])"
   ]
  },
  {
   "cell_type": "code",
   "execution_count": 2,
   "metadata": {
    "id": "nCC8bBnQn1tu"
   },
   "outputs": [
    {
     "data": {
      "text/plain": [
       "<qiskit.circuit.instructionset.InstructionSet at 0x22e1511e5f0>"
      ]
     },
     "execution_count": 2,
     "metadata": {},
     "output_type": "execute_result"
    }
   ],
   "source": [
    "### 00 Oracle ###\n",
    "\n",
    "qc.x(0)\n",
    "qc.x(1)\n",
    "\n",
    "qc.cz(0,1)   \n",
    "\n",
    "qc.x(0)\n",
    "qc.x(1)"
   ]
  },
  {
   "cell_type": "code",
   "execution_count": 3,
   "metadata": {
    "id": "qABKfprHoVOo"
   },
   "outputs": [
    {
     "data": {
      "text/plain": [
       "<qiskit.circuit.instructionset.InstructionSet at 0x22e373f0f40>"
      ]
     },
     "execution_count": 3,
     "metadata": {},
     "output_type": "execute_result"
    }
   ],
   "source": [
    "#### Amplification ####\n",
    "\n",
    "qc.h(0)\n",
    "qc.h(1)\n",
    "qc.x(0)\n",
    "qc.x(1)\n",
    "\n",
    "qc.cz(0,1)\n",
    "\n",
    "qc.x(1)\n",
    "qc.x(0)\n",
    "qc.h(1)\n",
    "qc.h(0)"
   ]
  },
  {
   "cell_type": "code",
   "execution_count": 4,
   "metadata": {
    "id": "oWcEnHGZoprJ"
   },
   "outputs": [
    {
     "name": "stdout",
     "output_type": "stream",
     "text": [
      "\n",
      "Executing job....\n",
      "\n",
      "\r",
      "Job Status: job has successfully run\n",
      "RESULT:  {'00': 100} \n",
      "\n"
     ]
    }
   ],
   "source": [
    "### Measurment ###\n",
    "qc.barrier(q)\n",
    "qc.measure(q[0], c[0])\n",
    "qc.measure(q[1], c[1])\n",
    "\n",
    "# backend = provider.get_backend('ibmq_qasm_simulator')\n",
    "backend = Aer.backends(name='qasm_simulator')[0]\n",
    "print('\\nExecuting job....\\n')\n",
    "job = execute(qc, backend, shots=100)\n",
    "\n",
    "job_monitor(job)\n",
    "counts = job.result().get_counts()\n",
    "\n",
    "print('RESULT: ',counts,'\\n')"
   ]
  },
  {
   "cell_type": "code",
   "execution_count": null,
   "metadata": {},
   "outputs": [],
   "source": []
  }
 ],
 "metadata": {
  "colab": {
   "provenance": []
  },
  "kernelspec": {
   "display_name": "Python 3 (ipykernel)",
   "language": "python",
   "name": "python3"
  },
  "language_info": {
   "codemirror_mode": {
    "name": "ipython",
    "version": 3
   },
   "file_extension": ".py",
   "mimetype": "text/x-python",
   "name": "python",
   "nbconvert_exporter": "python",
   "pygments_lexer": "ipython3",
   "version": "3.10.4"
  }
 },
 "nbformat": 4,
 "nbformat_minor": 1
}
